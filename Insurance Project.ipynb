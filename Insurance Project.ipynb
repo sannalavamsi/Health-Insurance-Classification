{
 "cells": [
  {
   "cell_type": "code",
   "execution_count": 1,
   "metadata": {},
   "outputs": [],
   "source": [
    "import numpy as np\n",
    "import pandas as pd\n",
    "import matplotlib.pyplot as plt\n",
    "import seaborn as sns"
   ]
  },
  {
   "cell_type": "code",
   "execution_count": 2,
   "metadata": {},
   "outputs": [
    {
     "name": "stderr",
     "output_type": "stream",
     "text": [
      "/opt/anaconda3/lib/python3.7/site-packages/IPython/core/interactiveshell.py:3058: DtypeWarning: Columns (9) have mixed types. Specify dtype option on import or set low_memory=False.\n",
      "  interactivity=interactivity, compiler=compiler, result=result)\n"
     ]
    },
    {
     "data": {
      "text/html": [
       "<div>\n",
       "<style scoped>\n",
       "    .dataframe tbody tr th:only-of-type {\n",
       "        vertical-align: middle;\n",
       "    }\n",
       "\n",
       "    .dataframe tbody tr th {\n",
       "        vertical-align: top;\n",
       "    }\n",
       "\n",
       "    .dataframe thead th {\n",
       "        text-align: right;\n",
       "    }\n",
       "</style>\n",
       "<table border=\"1\" class=\"dataframe\">\n",
       "  <thead>\n",
       "    <tr style=\"text-align: right;\">\n",
       "      <th></th>\n",
       "      <th>Area_Service</th>\n",
       "      <th>Hospital County</th>\n",
       "      <th>Certificate_num</th>\n",
       "      <th>Hospital Name</th>\n",
       "      <th>Age</th>\n",
       "      <th>zip_code_3_digits</th>\n",
       "      <th>Gender</th>\n",
       "      <th>Cultural_group</th>\n",
       "      <th>ethnicity</th>\n",
       "      <th>Days_spend_hsptl</th>\n",
       "      <th>...</th>\n",
       "      <th>Payment_typology_1</th>\n",
       "      <th>payment_typology_2</th>\n",
       "      <th>payment_typology_3</th>\n",
       "      <th>Weight_baby</th>\n",
       "      <th>Abortion</th>\n",
       "      <th>Emergency dept_yes/No</th>\n",
       "      <th>Tot_charg</th>\n",
       "      <th>Tot_cost</th>\n",
       "      <th>ratio_of_total_costs_to_total_charges</th>\n",
       "      <th>Result</th>\n",
       "    </tr>\n",
       "  </thead>\n",
       "  <tbody>\n",
       "    <tr>\n",
       "      <td>0</td>\n",
       "      <td>Western NY</td>\n",
       "      <td>Allegany</td>\n",
       "      <td>226700.0</td>\n",
       "      <td>Cuba Memorial Hospital Inc</td>\n",
       "      <td>30 to 49</td>\n",
       "      <td>147</td>\n",
       "      <td>F</td>\n",
       "      <td>White</td>\n",
       "      <td>Not Span/Hispanic</td>\n",
       "      <td>4</td>\n",
       "      <td>...</td>\n",
       "      <td>Blue Cross/Blue Shield</td>\n",
       "      <td>NaN</td>\n",
       "      <td>NaN</td>\n",
       "      <td>0</td>\n",
       "      <td>N</td>\n",
       "      <td>Y</td>\n",
       "      <td>5511.95</td>\n",
       "      <td>5582.49</td>\n",
       "      <td>1.012798</td>\n",
       "      <td>Genuine</td>\n",
       "    </tr>\n",
       "    <tr>\n",
       "      <td>1</td>\n",
       "      <td>Western NY</td>\n",
       "      <td>Allegany</td>\n",
       "      <td>226700.0</td>\n",
       "      <td>Cuba Memorial Hospital Inc</td>\n",
       "      <td>70 or Older</td>\n",
       "      <td>147</td>\n",
       "      <td>F</td>\n",
       "      <td>White</td>\n",
       "      <td>Not Span/Hispanic</td>\n",
       "      <td>4</td>\n",
       "      <td>...</td>\n",
       "      <td>Medicare</td>\n",
       "      <td>NaN</td>\n",
       "      <td>NaN</td>\n",
       "      <td>0</td>\n",
       "      <td>N</td>\n",
       "      <td>Y</td>\n",
       "      <td>4783.20</td>\n",
       "      <td>5162.82</td>\n",
       "      <td>1.079365</td>\n",
       "      <td>Genuine</td>\n",
       "    </tr>\n",
       "    <tr>\n",
       "      <td>2</td>\n",
       "      <td>Western NY</td>\n",
       "      <td>Allegany</td>\n",
       "      <td>226700.0</td>\n",
       "      <td>Cuba Memorial Hospital Inc</td>\n",
       "      <td>30 to 49</td>\n",
       "      <td>147</td>\n",
       "      <td>F</td>\n",
       "      <td>White</td>\n",
       "      <td>Not Span/Hispanic</td>\n",
       "      <td>3</td>\n",
       "      <td>...</td>\n",
       "      <td>Blue Cross/Blue Shield</td>\n",
       "      <td>NaN</td>\n",
       "      <td>NaN</td>\n",
       "      <td>0</td>\n",
       "      <td>N</td>\n",
       "      <td>Y</td>\n",
       "      <td>3829.15</td>\n",
       "      <td>4056.52</td>\n",
       "      <td>1.059379</td>\n",
       "      <td>Genuine</td>\n",
       "    </tr>\n",
       "    <tr>\n",
       "      <td>3</td>\n",
       "      <td>Western NY</td>\n",
       "      <td>Allegany</td>\n",
       "      <td>226700.0</td>\n",
       "      <td>Cuba Memorial Hospital Inc</td>\n",
       "      <td>0 to 17</td>\n",
       "      <td>147</td>\n",
       "      <td>F</td>\n",
       "      <td>White</td>\n",
       "      <td>Not Span/Hispanic</td>\n",
       "      <td>1</td>\n",
       "      <td>...</td>\n",
       "      <td>Private Health Insurance</td>\n",
       "      <td>NaN</td>\n",
       "      <td>NaN</td>\n",
       "      <td>0</td>\n",
       "      <td>N</td>\n",
       "      <td>Y</td>\n",
       "      <td>1108.20</td>\n",
       "      <td>1644.75</td>\n",
       "      <td>1.484167</td>\n",
       "      <td>Fraudulent</td>\n",
       "    </tr>\n",
       "    <tr>\n",
       "      <td>4</td>\n",
       "      <td>Western NY</td>\n",
       "      <td>Allegany</td>\n",
       "      <td>226700.0</td>\n",
       "      <td>Cuba Memorial Hospital Inc</td>\n",
       "      <td>70 or Older</td>\n",
       "      <td>147</td>\n",
       "      <td>F</td>\n",
       "      <td>White</td>\n",
       "      <td>Not Span/Hispanic</td>\n",
       "      <td>3</td>\n",
       "      <td>...</td>\n",
       "      <td>Medicare</td>\n",
       "      <td>NaN</td>\n",
       "      <td>NaN</td>\n",
       "      <td>0</td>\n",
       "      <td>N</td>\n",
       "      <td>Y</td>\n",
       "      <td>3418.18</td>\n",
       "      <td>3370.87</td>\n",
       "      <td>0.986161</td>\n",
       "      <td>Genuine</td>\n",
       "    </tr>\n",
       "  </tbody>\n",
       "</table>\n",
       "<p>5 rows × 33 columns</p>\n",
       "</div>"
      ],
      "text/plain": [
       "  Area_Service Hospital County  Certificate_num               Hospital Name  \\\n",
       "0   Western NY        Allegany         226700.0  Cuba Memorial Hospital Inc   \n",
       "1   Western NY        Allegany         226700.0  Cuba Memorial Hospital Inc   \n",
       "2   Western NY        Allegany         226700.0  Cuba Memorial Hospital Inc   \n",
       "3   Western NY        Allegany         226700.0  Cuba Memorial Hospital Inc   \n",
       "4   Western NY        Allegany         226700.0  Cuba Memorial Hospital Inc   \n",
       "\n",
       "           Age zip_code_3_digits Gender Cultural_group          ethnicity  \\\n",
       "0     30 to 49               147      F          White  Not Span/Hispanic   \n",
       "1  70 or Older               147      F          White  Not Span/Hispanic   \n",
       "2     30 to 49               147      F          White  Not Span/Hispanic   \n",
       "3      0 to 17               147      F          White  Not Span/Hispanic   \n",
       "4  70 or Older               147      F          White  Not Span/Hispanic   \n",
       "\n",
       "  Days_spend_hsptl  ...        Payment_typology_1 payment_typology_2  \\\n",
       "0                4  ...    Blue Cross/Blue Shield                NaN   \n",
       "1                4  ...                  Medicare                NaN   \n",
       "2                3  ...    Blue Cross/Blue Shield                NaN   \n",
       "3                1  ...  Private Health Insurance                NaN   \n",
       "4                3  ...                  Medicare                NaN   \n",
       "\n",
       "   payment_typology_3  Weight_baby Abortion  Emergency dept_yes/No Tot_charg  \\\n",
       "0                 NaN            0        N                      Y   5511.95   \n",
       "1                 NaN            0        N                      Y   4783.20   \n",
       "2                 NaN            0        N                      Y   3829.15   \n",
       "3                 NaN            0        N                      Y   1108.20   \n",
       "4                 NaN            0        N                      Y   3418.18   \n",
       "\n",
       "  Tot_cost ratio_of_total_costs_to_total_charges      Result  \n",
       "0  5582.49                              1.012798     Genuine  \n",
       "1  5162.82                              1.079365     Genuine  \n",
       "2  4056.52                              1.059379     Genuine  \n",
       "3  1644.75                              1.484167  Fraudulent  \n",
       "4  3370.87                              0.986161     Genuine  \n",
       "\n",
       "[5 rows x 33 columns]"
      ]
     },
     "execution_count": 2,
     "metadata": {},
     "output_type": "execute_result"
    }
   ],
   "source": [
    "insurance=pd.read_csv(\"/Users/apple/Downloads/DS_Projects/Insurance Project/Insurance Dataset Project.csv\")\n",
    "insurance.head()"
   ]
  },
  {
   "cell_type": "code",
   "execution_count": 3,
   "metadata": {},
   "outputs": [
    {
     "data": {
      "text/plain": [
       "(1048575, 33)"
      ]
     },
     "execution_count": 3,
     "metadata": {},
     "output_type": "execute_result"
    }
   ],
   "source": [
    "insurance.shape"
   ]
  },
  {
   "cell_type": "code",
   "execution_count": 4,
   "metadata": {},
   "outputs": [
    {
     "data": {
      "image/png": "[encoded data removed]",
      "text/plain": [
       "<Figure size 1440x576 with 1 Axes>"
      ]
     },
     "metadata": {
      "needs_background": "light"
     },
     "output_type": "display_data"
    }
   ],
   "source": [
    "insurance[\"Result\"].hist(figsize=(20,8))\n",
    "plt.show()"
   ]
  },
  {
   "cell_type": "code",
   "execution_count": 5,
   "metadata": {},
   "outputs": [
    {
     "name": "stdout",
     "output_type": "stream",
     "text": [
      "<class 'pandas.core.frame.DataFrame'>\n",
      "RangeIndex: 1048575 entries, 0 to 1048574\n",
      "Data columns (total 33 columns):\n",
      "Area_Service                             1046119 non-null object\n",
      "Hospital County                          1046119 non-null object\n",
      "Certificate_num                          1046119 non-null float64\n",
      "Hospital Name                            1048575 non-null object\n",
      "Age                                      1048575 non-null object\n",
      "zip_code_3_digits                        1033841 non-null object\n",
      "Gender                                   1048575 non-null object\n",
      "Cultural_group                           1048575 non-null object\n",
      "ethnicity                                1048575 non-null object\n",
      "Days_spend_hsptl                         1048575 non-null object\n",
      "Admission_type                           1048575 non-null object\n",
      "Home or self care,                       1048575 non-null object\n",
      "year_discharge                           1048575 non-null int64\n",
      "ccs_diagnosis_code                       1048575 non-null int64\n",
      "ccs_diagnosis_description                1048575 non-null object\n",
      "ccs_procedure_code                       1048575 non-null int64\n",
      "ccs_procedure_description                1048575 non-null object\n",
      "apr_drg_description                      1048575 non-null object\n",
      "apr_mdc_description                      1048575 non-null object\n",
      "Code_illness                             1048575 non-null int64\n",
      "Description_illness                      1048533 non-null object\n",
      "Mortality risk                           1048533 non-null object\n",
      "Surg_Description                         1048575 non-null object\n",
      "Payment_typology_1                       1048575 non-null object\n",
      "payment_typology_2                       693203 non-null object\n",
      "payment_typology_3                       263297 non-null object\n",
      "Weight_baby                              1048575 non-null int64\n",
      "Abortion                                 1048575 non-null object\n",
      "Emergency dept_yes/No                    1048575 non-null object\n",
      "Tot_charg                                1048575 non-null float64\n",
      "Tot_cost                                 1048575 non-null float64\n",
      "ratio_of_total_costs_to_total_charges    1048575 non-null float64\n",
      "Result                                   1048575 non-null object\n",
      "dtypes: float64(4), int64(5), object(24)\n",
      "memory usage: 264.0+ MB\n"
     ]
    }
   ],
   "source": [
    "insurance.info()"
   ]
  },
  {
   "cell_type": "code",
   "execution_count": 6,
   "metadata": {},
   "outputs": [
    {
     "data": {
      "text/plain": [
       "Area_Service                               2456\n",
       "Hospital County                            2456\n",
       "Certificate_num                            2456\n",
       "Hospital Name                                 0\n",
       "Age                                           0\n",
       "zip_code_3_digits                         14734\n",
       "Gender                                        0\n",
       "Cultural_group                                0\n",
       "ethnicity                                     0\n",
       "Days_spend_hsptl                              0\n",
       "Admission_type                                0\n",
       "Home or self care,                            0\n",
       "year_discharge                                0\n",
       "ccs_diagnosis_code                            0\n",
       "ccs_diagnosis_description                     0\n",
       "ccs_procedure_code                            0\n",
       "ccs_procedure_description                     0\n",
       "apr_drg_description                           0\n",
       "apr_mdc_description                           0\n",
       "Code_illness                                  0\n",
       "Description_illness                          42\n",
       "Mortality risk                               42\n",
       "Surg_Description                              0\n",
       "Payment_typology_1                            0\n",
       "payment_typology_2                       355372\n",
       "payment_typology_3                       785278\n",
       "Weight_baby                                   0\n",
       "Abortion                                      0\n",
       "Emergency dept_yes/No                         0\n",
       "Tot_charg                                     0\n",
       "Tot_cost                                      0\n",
       "ratio_of_total_costs_to_total_charges         0\n",
       "Result                                        0\n",
       "dtype: int64"
      ]
     },
     "execution_count": 6,
     "metadata": {},
     "output_type": "execute_result"
    }
   ],
   "source": [
    "insurance.isnull().sum()"
   ]
  },
  {
   "cell_type": "code",
   "execution_count": 7,
   "metadata": {},
   "outputs": [
    {
     "data": {
      "text/plain": [
       "1048575"
      ]
     },
     "execution_count": 7,
     "metadata": {},
     "output_type": "execute_result"
    }
   ],
   "source": [
    "len(insurance)"
   ]
  },
  {
   "cell_type": "code",
   "execution_count": 3,
   "metadata": {},
   "outputs": [
    {
     "data": {
      "text/plain": [
       "Area_Service                              0.234223\n",
       "Hospital County                           0.234223\n",
       "Certificate_num                           0.234223\n",
       "Hospital Name                             0.000000\n",
       "Age                                       0.000000\n",
       "zip_code_3_digits                         1.405145\n",
       "Gender                                    0.000000\n",
       "Cultural_group                            0.000000\n",
       "ethnicity                                 0.000000\n",
       "Days_spend_hsptl                          0.000000\n",
       "Admission_type                            0.000000\n",
       "Home or self care,                        0.000000\n",
       "year_discharge                            0.000000\n",
       "ccs_diagnosis_code                        0.000000\n",
       "ccs_diagnosis_description                 0.000000\n",
       "ccs_procedure_code                        0.000000\n",
       "ccs_procedure_description                 0.000000\n",
       "apr_drg_description                       0.000000\n",
       "apr_mdc_description                       0.000000\n",
       "Code_illness                              0.000000\n",
       "Description_illness                       0.004005\n",
       "Mortality risk                            0.004005\n",
       "Surg_Description                          0.000000\n",
       "Payment_typology_1                        0.000000\n",
       "payment_typology_2                       33.890947\n",
       "payment_typology_3                       74.890017\n",
       "Weight_baby                               0.000000\n",
       "Abortion                                  0.000000\n",
       "Emergency dept_yes/No                     0.000000\n",
       "Tot_charg                                 0.000000\n",
       "Tot_cost                                  0.000000\n",
       "ratio_of_total_costs_to_total_charges     0.000000\n",
       "Result                                    0.000000\n",
       "dtype: float64"
      ]
     },
     "execution_count": 3,
     "metadata": {},
     "output_type": "execute_result"
    }
   ],
   "source": [
    "#finding the missing values in percentage\n",
    "percent_missing=insurance.isnull().sum()*100/len(insurance)\n",
    "percent_missing\n",
    "#percent_missing_df=pd.DataFrame({\"column_names\":insurance.columns,\"percent_missing\":percent_missing})\n",
    "#percent_missing_df"
   ]
  },
  {
   "cell_type": "code",
   "execution_count": 4,
   "metadata": {},
   "outputs": [
    {
     "data": {
      "text/html": [
       "<div>\n",
       "<style scoped>\n",
       "    .dataframe tbody tr th:only-of-type {\n",
       "        vertical-align: middle;\n",
       "    }\n",
       "\n",
       "    .dataframe tbody tr th {\n",
       "        vertical-align: top;\n",
       "    }\n",
       "\n",
       "    .dataframe thead th {\n",
       "        text-align: right;\n",
       "    }\n",
       "</style>\n",
       "<table border=\"1\" class=\"dataframe\">\n",
       "  <thead>\n",
       "    <tr style=\"text-align: right;\">\n",
       "      <th></th>\n",
       "      <th>column_names</th>\n",
       "      <th>percent_missing</th>\n",
       "    </tr>\n",
       "  </thead>\n",
       "  <tbody>\n",
       "    <tr>\n",
       "      <td>ccs_procedure_description</td>\n",
       "      <td>ccs_procedure_description</td>\n",
       "      <td>0.000000</td>\n",
       "    </tr>\n",
       "    <tr>\n",
       "      <td>Tot_cost</td>\n",
       "      <td>Tot_cost</td>\n",
       "      <td>0.000000</td>\n",
       "    </tr>\n",
       "    <tr>\n",
       "      <td>Tot_charg</td>\n",
       "      <td>Tot_charg</td>\n",
       "      <td>0.000000</td>\n",
       "    </tr>\n",
       "    <tr>\n",
       "      <td>Emergency dept_yes/No</td>\n",
       "      <td>Emergency dept_yes/No</td>\n",
       "      <td>0.000000</td>\n",
       "    </tr>\n",
       "    <tr>\n",
       "      <td>Abortion</td>\n",
       "      <td>Abortion</td>\n",
       "      <td>0.000000</td>\n",
       "    </tr>\n",
       "    <tr>\n",
       "      <td>Weight_baby</td>\n",
       "      <td>Weight_baby</td>\n",
       "      <td>0.000000</td>\n",
       "    </tr>\n",
       "    <tr>\n",
       "      <td>Payment_typology_1</td>\n",
       "      <td>Payment_typology_1</td>\n",
       "      <td>0.000000</td>\n",
       "    </tr>\n",
       "    <tr>\n",
       "      <td>Surg_Description</td>\n",
       "      <td>Surg_Description</td>\n",
       "      <td>0.000000</td>\n",
       "    </tr>\n",
       "    <tr>\n",
       "      <td>Code_illness</td>\n",
       "      <td>Code_illness</td>\n",
       "      <td>0.000000</td>\n",
       "    </tr>\n",
       "    <tr>\n",
       "      <td>apr_mdc_description</td>\n",
       "      <td>apr_mdc_description</td>\n",
       "      <td>0.000000</td>\n",
       "    </tr>\n",
       "    <tr>\n",
       "      <td>apr_drg_description</td>\n",
       "      <td>apr_drg_description</td>\n",
       "      <td>0.000000</td>\n",
       "    </tr>\n",
       "    <tr>\n",
       "      <td>ratio_of_total_costs_to_total_charges</td>\n",
       "      <td>ratio_of_total_costs_to_total_charges</td>\n",
       "      <td>0.000000</td>\n",
       "    </tr>\n",
       "    <tr>\n",
       "      <td>ccs_procedure_code</td>\n",
       "      <td>ccs_procedure_code</td>\n",
       "      <td>0.000000</td>\n",
       "    </tr>\n",
       "    <tr>\n",
       "      <td>ccs_diagnosis_description</td>\n",
       "      <td>ccs_diagnosis_description</td>\n",
       "      <td>0.000000</td>\n",
       "    </tr>\n",
       "    <tr>\n",
       "      <td>Result</td>\n",
       "      <td>Result</td>\n",
       "      <td>0.000000</td>\n",
       "    </tr>\n",
       "    <tr>\n",
       "      <td>year_discharge</td>\n",
       "      <td>year_discharge</td>\n",
       "      <td>0.000000</td>\n",
       "    </tr>\n",
       "    <tr>\n",
       "      <td>Hospital Name</td>\n",
       "      <td>Hospital Name</td>\n",
       "      <td>0.000000</td>\n",
       "    </tr>\n",
       "    <tr>\n",
       "      <td>Age</td>\n",
       "      <td>Age</td>\n",
       "      <td>0.000000</td>\n",
       "    </tr>\n",
       "    <tr>\n",
       "      <td>ccs_diagnosis_code</td>\n",
       "      <td>ccs_diagnosis_code</td>\n",
       "      <td>0.000000</td>\n",
       "    </tr>\n",
       "    <tr>\n",
       "      <td>Cultural_group</td>\n",
       "      <td>Cultural_group</td>\n",
       "      <td>0.000000</td>\n",
       "    </tr>\n",
       "    <tr>\n",
       "      <td>Gender</td>\n",
       "      <td>Gender</td>\n",
       "      <td>0.000000</td>\n",
       "    </tr>\n",
       "    <tr>\n",
       "      <td>ethnicity</td>\n",
       "      <td>ethnicity</td>\n",
       "      <td>0.000000</td>\n",
       "    </tr>\n",
       "    <tr>\n",
       "      <td>Days_spend_hsptl</td>\n",
       "      <td>Days_spend_hsptl</td>\n",
       "      <td>0.000000</td>\n",
       "    </tr>\n",
       "    <tr>\n",
       "      <td>Admission_type</td>\n",
       "      <td>Admission_type</td>\n",
       "      <td>0.000000</td>\n",
       "    </tr>\n",
       "    <tr>\n",
       "      <td>Home or self care,</td>\n",
       "      <td>Home or self care,</td>\n",
       "      <td>0.000000</td>\n",
       "    </tr>\n",
       "    <tr>\n",
       "      <td>Mortality risk</td>\n",
       "      <td>Mortality risk</td>\n",
       "      <td>0.004005</td>\n",
       "    </tr>\n",
       "    <tr>\n",
       "      <td>Description_illness</td>\n",
       "      <td>Description_illness</td>\n",
       "      <td>0.004005</td>\n",
       "    </tr>\n",
       "    <tr>\n",
       "      <td>Certificate_num</td>\n",
       "      <td>Certificate_num</td>\n",
       "      <td>0.234223</td>\n",
       "    </tr>\n",
       "    <tr>\n",
       "      <td>Hospital County</td>\n",
       "      <td>Hospital County</td>\n",
       "      <td>0.234223</td>\n",
       "    </tr>\n",
       "    <tr>\n",
       "      <td>Area_Service</td>\n",
       "      <td>Area_Service</td>\n",
       "      <td>0.234223</td>\n",
       "    </tr>\n",
       "    <tr>\n",
       "      <td>zip_code_3_digits</td>\n",
       "      <td>zip_code_3_digits</td>\n",
       "      <td>1.405145</td>\n",
       "    </tr>\n",
       "    <tr>\n",
       "      <td>payment_typology_2</td>\n",
       "      <td>payment_typology_2</td>\n",
       "      <td>33.890947</td>\n",
       "    </tr>\n",
       "    <tr>\n",
       "      <td>payment_typology_3</td>\n",
       "      <td>payment_typology_3</td>\n",
       "      <td>74.890017</td>\n",
       "    </tr>\n",
       "  </tbody>\n",
       "</table>\n",
       "</div>"
      ],
      "text/plain": [
       "                                                                column_names  \\\n",
       "ccs_procedure_description                          ccs_procedure_description   \n",
       "Tot_cost                                                            Tot_cost   \n",
       "Tot_charg                                                          Tot_charg   \n",
       "Emergency dept_yes/No                                  Emergency dept_yes/No   \n",
       "Abortion                                                            Abortion   \n",
       "Weight_baby                                                      Weight_baby   \n",
       "Payment_typology_1                                        Payment_typology_1   \n",
       "Surg_Description                                            Surg_Description   \n",
       "Code_illness                                                    Code_illness   \n",
       "apr_mdc_description                                      apr_mdc_description   \n",
       "apr_drg_description                                      apr_drg_description   \n",
       "ratio_of_total_costs_to_total_charges  ratio_of_total_costs_to_total_charges   \n",
       "ccs_procedure_code                                        ccs_procedure_code   \n",
       "ccs_diagnosis_description                          ccs_diagnosis_description   \n",
       "Result                                                                Result   \n",
       "year_discharge                                                year_discharge   \n",
       "Hospital Name                                                  Hospital Name   \n",
       "Age                                                                      Age   \n",
       "ccs_diagnosis_code                                        ccs_diagnosis_code   \n",
       "Cultural_group                                                Cultural_group   \n",
       "Gender                                                                Gender   \n",
       "ethnicity                                                          ethnicity   \n",
       "Days_spend_hsptl                                            Days_spend_hsptl   \n",
       "Admission_type                                                Admission_type   \n",
       "Home or self care,                                        Home or self care,   \n",
       "Mortality risk                                                Mortality risk   \n",
       "Description_illness                                      Description_illness   \n",
       "Certificate_num                                              Certificate_num   \n",
       "Hospital County                                              Hospital County   \n",
       "Area_Service                                                    Area_Service   \n",
       "zip_code_3_digits                                          zip_code_3_digits   \n",
       "payment_typology_2                                        payment_typology_2   \n",
       "payment_typology_3                                        payment_typology_3   \n",
       "\n",
       "                                       percent_missing  \n",
       "ccs_procedure_description                     0.000000  \n",
       "Tot_cost                                      0.000000  \n",
       "Tot_charg                                     0.000000  \n",
       "Emergency dept_yes/No                         0.000000  \n",
       "Abortion                                      0.000000  \n",
       "Weight_baby                                   0.000000  \n",
       "Payment_typology_1                            0.000000  \n",
       "Surg_Description                              0.000000  \n",
       "Code_illness                                  0.000000  \n",
       "apr_mdc_description                           0.000000  \n",
       "apr_drg_description                           0.000000  \n",
       "ratio_of_total_costs_to_total_charges         0.000000  \n",
       "ccs_procedure_code                            0.000000  \n",
       "ccs_diagnosis_description                     0.000000  \n",
       "Result                                        0.000000  \n",
       "year_discharge                                0.000000  \n",
       "Hospital Name                                 0.000000  \n",
       "Age                                           0.000000  \n",
       "ccs_diagnosis_code                            0.000000  \n",
       "Cultural_group                                0.000000  \n",
       "Gender                                        0.000000  \n",
       "ethnicity                                     0.000000  \n",
       "Days_spend_hsptl                              0.000000  \n",
       "Admission_type                                0.000000  \n",
       "Home or self care,                            0.000000  \n",
       "Mortality risk                                0.004005  \n",
       "Description_illness                           0.004005  \n",
       "Certificate_num                               0.234223  \n",
       "Hospital County                               0.234223  \n",
       "Area_Service                                  0.234223  \n",
       "zip_code_3_digits                             1.405145  \n",
       "payment_typology_2                           33.890947  \n",
       "payment_typology_3                           74.890017  "
      ]
     },
     "execution_count": 4,
     "metadata": {},
     "output_type": "execute_result"
    }
   ],
   "source": [
    "percent_missing_df=pd.DataFrame({\"column_names\":insurance.columns,\"percent_missing\":percent_missing})\n",
    "#percent_missing_df\n",
    "percent_missing_df.sort_values(\"percent_missing\",inplace=True)\n",
    "percent_missing_df"
   ]
  },
  {
   "cell_type": "code",
   "execution_count": 6,
   "metadata": {},
   "outputs": [
    {
     "data": {
      "text/plain": [
       "['Area_Service',\n",
       " 'Hospital County',\n",
       " 'Certificate_num',\n",
       " 'Hospital Name',\n",
       " 'Age',\n",
       " 'zip_code_3_digits',\n",
       " 'Gender',\n",
       " 'Cultural_group',\n",
       " 'ethnicity',\n",
       " 'Days_spend_hsptl',\n",
       " 'Admission_type',\n",
       " 'Home or self care,',\n",
       " 'year_discharge',\n",
       " 'ccs_diagnosis_code',\n",
       " 'ccs_diagnosis_description',\n",
       " 'ccs_procedure_code',\n",
       " 'ccs_procedure_description',\n",
       " 'apr_drg_description',\n",
       " 'apr_mdc_description',\n",
       " 'Code_illness',\n",
       " 'Description_illness',\n",
       " 'Mortality risk',\n",
       " 'Surg_Description',\n",
       " 'Payment_typology_1',\n",
       " 'payment_typology_2',\n",
       " 'payment_typology_3',\n",
       " 'Weight_baby',\n",
       " 'Abortion',\n",
       " 'Emergency dept_yes/No',\n",
       " 'Tot_charg',\n",
       " 'Tot_cost',\n",
       " 'ratio_of_total_costs_to_total_charges',\n",
       " 'Result']"
      ]
     },
     "execution_count": 6,
     "metadata": {},
     "output_type": "execute_result"
    }
   ],
   "source": [
    "col=list(insurance.columns)\n",
    "col\n"
   ]
  },
  {
   "cell_type": "code",
   "execution_count": 7,
   "metadata": {},
   "outputs": [
    {
     "data": {
      "text/plain": [
       "(1793, 33)"
      ]
     },
     "execution_count": 7,
     "metadata": {},
     "output_type": "execute_result"
    }
   ],
   "source": [
    "#finding the number of duplicates rows\n",
    "duplicate_rows=insurance[insurance.duplicated()]\n",
    "duplicate_rows.shape"
   ]
  },
  {
   "cell_type": "code",
   "execution_count": 5,
   "metadata": {},
   "outputs": [
    {
     "data": {
      "text/plain": [
       "(1046782, 33)"
      ]
     },
     "execution_count": 5,
     "metadata": {},
     "output_type": "execute_result"
    }
   ],
   "source": [
    "#shape after removing duplicates values\n",
    "insurance1=insurance.drop_duplicates(keep='first')\n",
    "insurance1.shape"
   ]
  },
  {
   "cell_type": "code",
   "execution_count": 13,
   "metadata": {},
   "outputs": [
    {
     "data": {
      "text/plain": [
       "Area_Service                                  7\n",
       "Hospital County                              51\n",
       "Certificate_num                             123\n",
       "Hospital Name                               148\n",
       "Age                                           5\n",
       "zip_code_3_digits                            50\n",
       "Gender                                        3\n",
       "Cultural_group                                4\n",
       "ethnicity                                     3\n",
       "Days_spend_hsptl                            210\n",
       "Admission_type                                6\n",
       "Home or self care,                           19\n",
       "year_discharge                                1\n",
       "ccs_diagnosis_code                          262\n",
       "ccs_diagnosis_description                   262\n",
       "ccs_procedure_code                          230\n",
       "ccs_procedure_description                   230\n",
       "apr_drg_description                         316\n",
       "apr_mdc_description                          26\n",
       "Code_illness                                  5\n",
       "Description_illness                           4\n",
       "Mortality risk                                4\n",
       "Surg_Description                              3\n",
       "Payment_typology_1                           10\n",
       "payment_typology_2                           10\n",
       "payment_typology_3                           10\n",
       "Weight_baby                                  70\n",
       "Abortion                                      2\n",
       "Emergency dept_yes/No                         2\n",
       "Tot_charg                                869659\n",
       "Tot_cost                                 766537\n",
       "ratio_of_total_costs_to_total_charges    987065\n",
       "Result                                        2\n",
       "dtype: int64"
      ]
     },
     "execution_count": 13,
     "metadata": {},
     "output_type": "execute_result"
    }
   ],
   "source": [
    "insurance1.nunique()"
   ]
  },
  {
   "cell_type": "code",
   "execution_count": 14,
   "metadata": {},
   "outputs": [
    {
     "name": "stdout",
     "output_type": "stream",
     "text": [
      "['Western NY' nan 'Finger Lakes' 'Central NY' 'Southern Tier'\n",
      " 'Capital/Adirond' 'Hudson Valley' 'New York City']\n",
      "['Allegany' nan 'Cattaraugus' 'Chautauqua' 'Erie' 'Genesee' 'Niagara'\n",
      " 'Orleans' 'Wyoming' 'Chemung' 'Livingston' 'Monroe' 'Ontario' 'Schuyler'\n",
      " 'Steuben' 'Wayne' 'Yates' 'Oswego' 'Broome' 'Cayuga' 'Chenango'\n",
      " 'Cortland' 'Herkimer' 'Jefferson' 'Lewis' 'Madison' 'Oneida' 'Onondaga'\n",
      " 'St Lawrence' 'Tompkins' 'Albany' 'Clinton' 'Columbia' 'Delaware' 'Essex'\n",
      " 'Franklin' 'Fulton' 'Montgomery' 'Otsego' 'Rensselaer' 'Saratoga'\n",
      " 'Schenectady' 'Schoharie' 'Warren' 'Dutchess' 'Orange' 'Putnam'\n",
      " 'Rockland' 'Sullivan' 'Ulster' 'Westchester' 'Bronx']\n",
      "[ 226700.      nan  228000.  401001.  601000.  602001.  632000.  427000.\n",
      " 1401014. 1401005. 1401006. 1401008. 1401010. 1401013. 1404000. 1427000.\n",
      " 1801000. 3101000. 3102000. 3121001. 3622000. 3622700. 6027000.  701000.\n",
      "  701001. 2527000. 2701001. 2701003. 2754001. 2701005. 2701006. 2728001.\n",
      " 3402000. 3421000. 3429000. 4823700. 5001000. 5002001. 5022000. 5820000.\n",
      " 6120700. 3702000.  303001.  301001.  501000.  824000. 1101000. 2129700.\n",
      " 2201000. 2221700. 2238001. 2424700. 2424000. 2601001. 2625000. 3201002.\n",
      " 3202003. 3202002. 3301007. 3301003. 3301008. 4401000. 4402000. 4423000.\n",
      " 4429000. 4458700. 5401001.  101000.  101003.  101004.  901001. 1001000.\n",
      " 1254700. 1226701. 1229700. 1552701. 1564701. 1623001. 1624000. 1701000.\n",
      " 2801001. 3801000. 3824000. 4102003. 4102002. 4501000. 4601001. 4601004.\n",
      " 4720001. 5601000. 4102004. 1302000. 1302001. 1327000. 3522000. 3523000.\n",
      " 3529000. 3535001. 3950000. 4322000. 4324000. 4329000. 4353000. 5263700.\n",
      " 5263000. 5501000. 5501001. 5526700. 5901000. 5902001. 5902002. 7002054.\n",
      " 5903000. 5904000. 5907001. 5907002. 5920000. 5922000. 5932000. 5957000.\n",
      " 5957001. 7000001. 7000002. 7000006.]\n",
      "['Cuba Memorial Hospital Inc' 'Redacted for Confidentiality'\n",
      " 'Memorial Hosp of Wm F & Gertrude F Jones A/K/A Jones Memorial Hosp'\n",
      " 'Olean General Hospital' 'Brooks Memorial Hospital'\n",
      " 'Womans Christian Assoc Hospital - WCA Hosp at Jones Memorial Health Ce'\n",
      " \"Woman's Christian Association\" 'Westfield Memorial Hospital Inc'\n",
      " 'TLC Health Network Lake Shore Hospital' 'Buffalo General Medical Center'\n",
      " \"Women And Children's Hospital Of Buffalo\" 'Erie County Medical Center'\n",
      " 'Sheehan Memorial Hospital' 'Mercy Hospital' 'Millard Fillmore Hospital'\n",
      " 'Roswell Park Cancer Institute' 'Sisters of Charity Hospital'\n",
      " 'Kenmore Mercy Hospital' 'Bertrand Chaffee Hospital'\n",
      " 'Sisters of Charity Hospital - St Joseph Campus'\n",
      " 'United Memorial Medical Center North Street Campus'\n",
      " 'United Memorial Medical Center Bank Street Campus'\n",
      " 'Eastern Niagara Hospital - Lockport Division'\n",
      " 'Niagara Falls Memorial Medical Center' 'Degraff Memorial Hospital'\n",
      " 'Mount St Marys Hospital and Health Center'\n",
      " 'Eastern Niagara Hospital - Newfane Division' 'Medina Memorial Hospital'\n",
      " 'Wyoming County Community Hospital' 'Millard Fillmore Suburban Hospital'\n",
      " 'Arnot Ogden Medical Center' 'St Josephs Hospital'\n",
      " 'Nicholas H Noyes Memorial Hospital' 'Highland Hospital'\n",
      " 'Rochester General Hospital'\n",
      " 'The Unity Hospital of Rochester-St Marys Campus'\n",
      " 'Strong Memorial Hospital' 'Monroe Community Hospital'\n",
      " 'Lakeside Memorial Hospital' 'The Unity Hospital of Rochester'\n",
      " 'Geneva General Hospital' 'Clifton Springs Hospital and Clinic'\n",
      " 'F F Thompson Hospital' 'Schuyler Hospital' 'Corning Hospital'\n",
      " 'St James Mercy Hospital' 'Ira Davenport Memorial Hospital Inc'\n",
      " 'Newark-Wayne Community Hospital'\n",
      " 'Soldiers and Sailors Memorial Hospital of Yates County Inc'\n",
      " 'St James Mercy Hospital - Mercycare'\n",
      " 'Oswego Hospital - Alvin L Krakau Comm Mtl Health Center Div'\n",
      " 'United Health Services Hospitals Inc. - Binghamton General Hospital'\n",
      " 'Our Lady of Lourdes Memorial Hospital Inc'\n",
      " 'United Health Services Hospitals Inc. - Wilson Medical Center'\n",
      " 'Auburn Community Hospital' 'Chenango Memorial Hospital Inc'\n",
      " 'Cortland Regional Medical Center Inc' 'Little Falls Hospital'\n",
      " 'Samaritan Medical Center' 'River Hospital, Inc.'\n",
      " 'Carthage Area Hospital Inc' 'Lewis County General Hospital'\n",
      " 'Oneida Healthcare Center' 'Community Memorial Hospital Inc'\n",
      " 'Rome Memorial Hospital, Inc'\n",
      " 'Faxton-St Lukes Healthcare Faxton Division'\n",
      " 'St Elizabeth Medical Center'\n",
      " 'Faxton-St Lukes Healthcare St Lukes Division'\n",
      " 'UPSTATE University Hospital at Community General'\n",
      " 'St Josephs Hospital Health Center'\n",
      " 'University Hospital SUNY Health Science Center' 'Crouse Hospital'\n",
      " 'Oswego Hospital' 'Claxton-Hepburn Medical Center'\n",
      " 'Massena Memorial Hospital' 'Edward John Noble Hospital of Gouverneur'\n",
      " 'Canton-Potsdam Hospital' 'Clifton-Fine Hospital'\n",
      " 'Cayuga Medical Center at Ithaca'\n",
      " 'Crouse Hospital - Commonwealth Division'\n",
      " 'Albany Medical Center Hospital'\n",
      " 'Albany Medical Center - South Clinical Campus'\n",
      " 'Albany Memorial Hospital' 'St Peters Hospital'\n",
      " 'Champlain Valley Physicians Hospital Medical Center'\n",
      " 'Columbia Memorial Hospital' \"O'Connor Hospital\" 'Margaretville Hospital'\n",
      " 'Delaware Valley Hospital Inc' 'Elizabethtown Community Hospital'\n",
      " 'Moses-Ludington Hospital' 'Adirondack Medical Center-Saranac Lake Site'\n",
      " 'Alice Hyde Medical Center' 'Nathan Littauer Hospital'\n",
      " \"St. Mary's Healthcare - Amsterdam Memorial Campus\"\n",
      " \"St. Mary's Healthcare\" 'Aurelia Osborn Fox Memorial Hospital'\n",
      " 'Mary Imogene Bassett Hospital' \"Seton Health System-St Mary's Campus\"\n",
      " \"St. Mary's Hospital\" 'Samaritan Hospital' 'Saratoga Hospital'\n",
      " 'Ellis Hospital' 'Sunnyview Hospital and Rehabilitation Center'\n",
      " \"Ellis Hospital - Bellevue Woman's Care Center Division\"\n",
      " 'Cobleskill Regional Hospital' 'Glens Falls Hospital'\n",
      " 'The Burdett Care Center' 'St Francis Hospital'\n",
      " 'Vassar Brothers Medical Center' 'Northern Dutchess Hospital'\n",
      " \"St Luke's Cornwall Hospital/Newburgh\" 'Orange Regional Medical Center'\n",
      " 'St Anthony Community Hospital' 'Bon Secours Community Hospital'\n",
      " 'Putnam Hospital Center' 'Helen Hayes Hospital' 'Nyack Hospital'\n",
      " 'Good Samaritan Hospital of Suffern'\n",
      " 'Summit Park Hospital-Rockland County Infirmary'\n",
      " 'Catskill Regional Medical Center - G. Hermann Site'\n",
      " 'Catskill Regional Medical Center' 'Benedictine Hospital'\n",
      " \"HealthAlliance Hospital Mary's Avenue Campus\" 'Kingston Hospital'\n",
      " 'HealthAlliance Hospital Broadway Campus' 'Ellenville Regional Hospital'\n",
      " 'Hudson Valley Hospital Center' 'White Plains Hospital Center'\n",
      " 'Winifred Masterson Burke Rehabilitation Hospital'\n",
      " 'New York Presbyterian Hospital - Westchester Division'\n",
      " 'Mount Vernon Hospital' 'Sound Shore Medical Center of Westchester'\n",
      " 'SJRH - St Johns Division' \"St Joseph's Medical Center\"\n",
      " 'SJRH - Park Care Pavilion' 'Northern Westchester Hospital'\n",
      " 'Lawrence Hospital Center' 'SJRH - Dobbs Ferry Pavillion'\n",
      " 'Phelps Memorial Hospital Assn'\n",
      " \"St Joseph's MC-St Vincents Westchester Division\"\n",
      " 'Blythedale Childrens Hospital' 'Westchester Medical Center'\n",
      " 'Bronx-Lebanon Hospital Center - Fulton Division' 'Jacobi Medical Center'\n",
      " 'Montefiore Medical Center - North Division'\n",
      " 'Montefiore Medical Center-Wakefield Hospital'\n",
      " 'Montefiore Medical Center - Henry & Lucy Moses Div']\n",
      "['30 to 49' '70 or Older' '0 to 17' '18 to 29' '50 to 69']\n",
      "['147' nan 'OOS' '140' '148' '141' '145' '142' '146' '144' '143' '139'\n",
      " '134' '120' '138' '133' '130' '135' '137' '121' '124' '136' '123' '104'\n",
      " '112' '100' '115' '149' '106' '109' '113' '111' '117' '131' '128' '129'\n",
      " '132' '125' '107' '105' '127' '122' '119' '114' '116' '126' '110' '108'\n",
      " '103' '101' '118']\n",
      "['F' 'M' 'U']\n",
      "['White' 'Other Race' 'Black/African American' 'Unknown']\n",
      "['Not Span/Hispanic' 'Spanish/Hispanic' 'Unknown']\n",
      "['4' '3' '1' '2' '5' '6' '14' '12' '9' '8' '10' '7' '22' '11' '16' '15'\n",
      " '25' '13' '17' '28' '18' '19' '23' '38' '20' '24' '26' '21' '27' '30'\n",
      " '29' '39' '87' '35' '37' '32' '55' '56' '49' '110' '69' '75' '42' '51'\n",
      " '47' '45' '46' '40' '34' '79' '43' '120 +' '65' '41' '31' '50' '59' '44'\n",
      " '36' '70' '115' '58' '94' '33' '68' '67' '54' '80' '85' '95' '78' '91'\n",
      " '88' '48' '52' '63' '57' '74' '64' '53' '62' '97' '72' '118' '81' '90'\n",
      " '86' '106' '112' '105' '114' '66' '89' '83' '84' '82' '93' '116' '71'\n",
      " '60' '73' '61' '92' '76' '96' '77' '104' '100' '103' '102' '117' '108'\n",
      " '99' '107' '98' '101' '119' '111' '109' '113' 2 3 1 5 15 18 4 7 20 6 11\n",
      " 19 12 14 10 21 9 8 16 13 17 27 25 23 31 32 26 84 71 34 28 30 22 36 24 44\n",
      " 29 43 33 74 56 40 47 37 38 54 48 45 35 61 41 102 42 46 53 95 52 50 63 39\n",
      " 55 77 58 73 90 99 91 66 86 69 70 65 59 72 76 60 75 51 79 68 62 49 98 94\n",
      " 64 57 78 81 97 87]\n",
      "['Elective' 'Urgent' 'Emergency' 'Newborn' 'Not Available' 'Trauma']\n",
      "['Home or Self Care' 'Short-term Hospital'\n",
      " 'Hosp Basd Medicare Approved Swing Bed'\n",
      " 'Facility w/ Custodial/Supportive Care' 'Skilled Nursing Home' 'Expired'\n",
      " 'Left Against Medical Advice' 'Home w/ Home Health Services'\n",
      " 'Psychiatric Hospital or Unit of Hosp' 'Hospice - Home'\n",
      " 'Hospice - Medical Facility' 'Federal Health Care Facility'\n",
      " 'Inpatient Rehabilitation Facility'\n",
      " \"Cancer Center or Children's Hospital\" 'Court/Law Enforcement'\n",
      " 'Medicare Cert Long Term Care Hospital' 'Another Type Not Listed'\n",
      " 'Critical Access Hospital' 'Medicaid Cert Nursing Facility']\n",
      "[2012]\n",
      "[122 197 142 154 125 127 126 159 231 145 238 146 244 153 128 155  55  58\n",
      " 118  50 233  95 157  80  99 133 236 152   8 171 170 189  26   2 175 131\n",
      " 144 130 660 129 230 101 187 195 149  48 237 218 102  51 108  47 169 172\n",
      " 103  15 226  59 242 109 192 181 185 135 100 163 207 106 193 186 190 251\n",
      " 222 211   5 224  46 184  83 148 156  24 183 140 245   7 160 191  96  42\n",
      " 250 241  14  97 205 105 182 234 253 229 143 657  93  49 196  60 239 112\n",
      " 661 246  17 653 168  27 115 257 259  90  85 138 164 136 141  92  63 663\n",
      "  43  35  19  38 167 199 173  33 161 117 147 120 121 188 203 151 248 139\n",
      " 114  62  61  18  32  13 240 659 116 110   6   3 252  39  12  98 162  25\n",
      " 137 204 202 123 201  77  54 670 158 107  29 654 165 235 124   4 194 198\n",
      "  44 180 113 254 214  57 213 104  84  81  76 651 655  36 243  21  53 232\n",
      " 217 212  91 219 225  11 177  52  64 662 200  82 656 650 652 255 166 111\n",
      "  16  94  79 134 178 210 209  34 132  41 228  78  56  40 258  23   1  89\n",
      " 206 227  37 658 247  87 216 179 119   9  10 221  45 223 215 220 256 176\n",
      "  28 208  20 249  22  31  30 174  86  88]\n",
      "['Pneumonia (except that caused by tuberculosis or sexually transmitted disease)'\n",
      " 'Skin and subcutaneous tissue infections'\n",
      " 'Appendicitis and other appendiceal conditions'\n",
      " 'Noninfectious gastroenteritis' 'Acute bronchitis'\n",
      " 'Chronic obstructive pulmonary disease and bronchiectasis'\n",
      " 'Other upper respiratory infections' 'Urinary tract infections'\n",
      " 'Other fractures' 'Intestinal obstruction without hernia'\n",
      " 'Complications of surgical procedures or medical care'\n",
      " 'Diverticulosis and diverticulitis'\n",
      " 'Other injuries and conditions due to external causes'\n",
      " 'Gastrointestinal hemorrhage' 'Asthma' 'Other gastrointestinal disorders'\n",
      " 'Fluid and electrolyte disorders'\n",
      " 'Other nutritional; endocrine; and metabolic disorders'\n",
      " 'Phlebitis; thrombophlebitis and thromboembolism'\n",
      " 'Diabetes mellitus with complications' 'Intracranial injury'\n",
      " 'Other nervous system disorders' 'Acute and unspecified renal failure'\n",
      " 'Multiple sclerosis'\n",
      " 'Hypertension with complications and secondary hypertension'\n",
      " 'Other lower respiratory disease' 'Open wounds of extremities'\n",
      " 'Pancreatic disorders (not diabetes)'\n",
      " 'Other infections; including parasitic' 'Menstrual disorders'\n",
      " 'Prolapse of female genital organs' 'Previous C-section'\n",
      " 'Cancer of cervix' 'Septicemia (except in labor)'\n",
      " 'Other female genital disorders'\n",
      " 'Respiratory failure; insufficiency; arrest (adult)'\n",
      " 'Regional enteritis and ulcerative colitis'\n",
      " 'Pleurisy; pneumothorax; pulmonary collapse' 'Alcohol-related disorders'\n",
      " 'Aspiration pneumonitis; food/vomitus' 'Fracture of lower limb'\n",
      " 'Coronary atherosclerosis and other heart disease'\n",
      " 'Malposition; malpresentation'\n",
      " 'Other complications of birth; puerperium affecting management of mother'\n",
      " 'Biliary tract disease' 'Thyroid disorders'\n",
      " 'Complication of device; implant or graft' 'Liveborn'\n",
      " 'Nonspecific chest pain' 'Other endocrine disorders'\n",
      " 'Congestive heart failure; nonhypertensive'\n",
      " 'Other and unspecified benign neoplasm' 'Endometriosis' 'Ovarian cyst'\n",
      " 'Pulmonary heart disease' 'Cancer of rectum and anus'\n",
      " 'Fracture of neck of femur (hip)' 'Deficiency and other anemia'\n",
      " 'Poisoning by other medications and drugs'\n",
      " 'Acute cerebrovascular disease' 'Umbilical cord complication'\n",
      " 'Other complications of pregnancy' 'Prolonged pregnancy'\n",
      " 'Intestinal infection' 'Acute myocardial infarction'\n",
      " 'Genitourinary symptoms and ill-defined conditions'\n",
      " 'Pathological fracture' 'Cardiac dysrhythmias'\n",
      " 'OB-related trauma to perineum and vulva'\n",
      " 'Diabetes or abnormal glucose tolerance complicating pregnancy; childbirth; or the puerperium'\n",
      " 'Fetal distress and abnormal forces of labor' 'Abdominal pain'\n",
      " 'Hemolytic jaundice and perinatal jaundice'\n",
      " 'Other connective tissue disease' 'HIV infection'\n",
      " 'Other perinatal conditions' 'Benign neoplasm of uterus'\n",
      " 'Early or threatened labor' 'Epilepsy; convulsions'\n",
      " 'Peritonitis and intestinal abscess'\n",
      " 'Nephritis; nephrosis; renal sclerosis' 'Cancer of breast'\n",
      " 'Hypertension complicating pregnancy; childbirth and the puerperium'\n",
      " 'Gastritis and duodenitis' 'Syncope' 'Viral infection'\n",
      " 'Calculus of urinary tract'\n",
      " 'Polyhydramnios and other problems of amniotic cavity'\n",
      " 'Heart valve disorders' 'Secondary malignancies' 'Nausea and vomiting'\n",
      " 'Poisoning by psychotropic agents' 'Cancer of colon'\n",
      " 'Peri-; endo-; and myocarditis; cardiomyopathy (except that caused by tuberculosis or sexually transmitted disease)'\n",
      " 'Spondylosis; intervertebral disc disorders; other back problems'\n",
      " 'Conduction disorders'\n",
      " 'Hemorrhage during pregnancy; abruptio placenta; placenta previa'\n",
      " 'Crushing injury or internal injury' 'Allergic reactions'\n",
      " 'Fracture of upper limb' 'Abdominal hernia' 'Mood disorders'\n",
      " 'Conditions associated with dizziness or vertigo'\n",
      " 'Diabetes mellitus without complication'\n",
      " 'Other pregnancy and delivery including normal'\n",
      " 'Acute posthemorrhagic anemia' 'Superficial injury; contusion'\n",
      " 'Transient cerebral ischemia' 'Substance-related disorders'\n",
      " 'Fever of unknown origin' 'Cancer of pancreas'\n",
      " 'Delirium, dementia, and amnestic and other cognitive disorders'\n",
      " 'Inflammatory diseases of female pelvic organs' 'Cancer of ovary'\n",
      " 'Aortic; peripheral; and visceral artery aneurysms' 'Other aftercare'\n",
      " 'Residual codes; unclassified'\n",
      " 'Inflammation; infection of eye (except that caused by tuberculosis or sexually transmitteddisease)'\n",
      " 'Coma; stupor; and brain damage' 'Esophageal disorders'\n",
      " 'Hyperplasia of prostate' 'Disorders of teeth and jaw'\n",
      " 'Other disorders of stomach and duodenum'\n",
      " 'Otitis media and related conditions' 'Diseases of white blood cells'\n",
      " 'Screening and history of mental health and substance abuse codes'\n",
      " 'Malignant neoplasm without specification of site'\n",
      " 'Cancer of brain and nervous system' 'Cancer of bronchus; lung'\n",
      " 'Non-Hodgkin`s lymphoma' 'Nonmalignant breast conditions'\n",
      " 'Chronic ulcer of skin' 'Menopausal disorders'\n",
      " 'Cancer of kidney and renal pelvis'\n",
      " 'Other diseases of kidney and ureters' 'Other circulatory disease'\n",
      " 'Anal and rectal conditions' 'Hemorrhoids'\n",
      " 'Other diseases of veins and lymphatics'\n",
      " 'Fetopelvic disproportion; obstruction' 'Osteoarthritis'\n",
      " 'Other liver diseases' 'Gangrene'\n",
      " 'Gastroduodenal ulcer (except hemorrhage)'\n",
      " 'Peripheral and visceral atherosclerosis'\n",
      " 'Coagulation and hemorrhagic disorders' 'Sickle cell anemia'\n",
      " 'Cancer of other GI organs; peritoneum' 'Cancer of bladder'\n",
      " 'Cancer of stomach' 'Burns' 'Schizophrenia and other psychotic disorders'\n",
      " 'Aortic and peripheral arterial embolism or thrombosis'\n",
      " 'Occlusion or stenosis of precerebral arteries' 'Hepatitis'\n",
      " 'Bacterial infection; unspecified site' 'Malaise and fatigue' 'Leukemias'\n",
      " 'Cancer of esophagus' 'Essential hypertension'\n",
      " 'Other diseases of bladder and urethra' 'Cancer of uterus'\n",
      " 'Diseases of mouth; excluding dental'\n",
      " 'Other non-traumatic joint disorders'\n",
      " 'Rheumatoid arthritis and related disease' 'Influenza'\n",
      " 'Infective arthritis and osteomyelitis (except that caused by tuberculosis or sexually transmitted disease)'\n",
      " 'Encephalitis (except that caused by tuberculosis or sexually transmitted disease)'\n",
      " 'Gout and other crystal arthropathies' 'Miscellaneous disorders'\n",
      " 'Chronic kidney disease' 'Cardiac arrest and ventricular fibrillation'\n",
      " 'Cancer of prostate' 'Developmental disorders'\n",
      " 'Inflammatory conditions of male genital organs'\n",
      " 'Open wounds of head; neck; and trunk' 'Acute and chronic tonsillitis'\n",
      " 'Mycoses' 'Forceps delivery' 'Other inflammatory condition of skin'\n",
      " 'Neoplasms of unspecified nature or uncertain behavior'\n",
      " 'Ectopic pregnancy' 'Late effects of cerebrovascular disease'\n",
      " 'Rehabilitation care; fitting of prostheses; and adjustment of devices'\n",
      " 'Digestive congenital anomalies' 'Immunity disorders'\n",
      " 'Cardiac and circulatory congenital anomalies'\n",
      " 'Other and ill-defined heart disease' 'Headache; including migraine'\n",
      " 'Other hereditary and degenerative nervous system conditions'\n",
      " 'Meningitis (except that caused by tuberculosis or sexually transmitted disease)'\n",
      " 'Anxiety disorders'\n",
      " 'Disorders usually diagnosed in infancy, childhood, or adolescence'\n",
      " 'Cancer of thyroid' 'Poisoning by nonmedicinal substances'\n",
      " 'Cancer of bone and connective tissue' 'Disorders of lipid metabolism'\n",
      " 'Sprains and strains' 'Other congenital anomalies'\n",
      " 'Other bone disease and musculoskeletal deformities'\n",
      " 'Other eye disorders'\n",
      " 'Short gestation; low birth weight; and fetal growth retardation'\n",
      " 'Joint disorders and dislocations; trauma-related'\n",
      " 'Cancer of head and neck' 'Spontaneous abortion'\n",
      " 'Nutritional deficiencies' 'Other hematologic conditions'\n",
      " 'Suicide and intentional self-inflicted injury' 'Other skin disorders'\n",
      " 'Paralysis' 'Impulse control disorders, NEC' 'Adjustment disorders'\n",
      " 'Attention-deficit, conduct, and disruptive behavior disorders'\n",
      " 'Administrative/social admission' 'Other male genital disorders'\n",
      " 'Other and ill-defined cerebrovascular disease'\n",
      " 'Cancer of liver and intrahepatic bile duct'\n",
      " 'Other ear and sense organ disorders' 'Parkinson`s disease'\n",
      " 'Other upper respiratory disease' 'Induced abortion'\n",
      " 'Systemic lupus erythematosus and connective tissue disorders'\n",
      " 'Other acquired deformities' 'Cancer of other urinary organs'\n",
      " 'Lung disease due to external agents'\n",
      " 'Cancer; other and unspecified primary' 'Skull and face fractures'\n",
      " 'Other CNS infection and poliomyelitis' 'Cystic fibrosis'\n",
      " 'Multiple myeloma'\n",
      " 'Other screening for suspected conditions (not mental disorders or infectious disease)'\n",
      " 'Other non-epithelial cancer of skin' 'Tuberculosis'\n",
      " 'Blindness and vision defects' 'Osteoporosis' 'Spinal cord injury'\n",
      " 'Hodgkin`s disease' 'Personality disorders' 'Lymphadenitis'\n",
      " 'Retinal detachments; defects; vascular occlusion; and retinopathy'\n",
      " 'Nervous system congenital anomalies' 'Postabortion complications'\n",
      " 'Varicose veins of lower extremity'\n",
      " 'Sexually transmitted infections (not HIV or hepatitis)'\n",
      " 'Immunizations and screening for infectious disease'\n",
      " 'Respiratory distress syndrome' 'Maintenance chemotherapy; radiotherapy'\n",
      " 'Birth trauma' 'Genitourinary congenital anomalies'\n",
      " 'Intrauterine hypoxia and birth asphyxia'\n",
      " 'Medical examination/evaluation'\n",
      " 'Contraceptive and procreative management'\n",
      " 'Cancer of other female genital organs' 'Acquired foot deformities'\n",
      " 'Cancer; other respiratory and intrathoracic' 'Shock' 'Melanomas of skin'\n",
      " 'Cancer of other male genital organs' 'Cancer of testis'\n",
      " 'Female infertility' 'Cataract' 'Glaucoma']\n",
      "[  0 202 124 134 216 119 222  39  84 147  54 137  70 115  76  96 153 127\n",
      " 228 140 141 146 169 231 174 168   4 163 171  80 135 121 102  87 128 160\n",
      " 111  75  89  99 227 175 221 214  98  71  86  78 136 157  85 125  90 132\n",
      " 109 101 117  97  77  88  94 225   5 155 193 107  65  95  35 116 129 152\n",
      " 133  63  60  37  48  36  55  66  93  58  67  61 110 211 100 120  40  51\n",
      " 164  72 167  42 113  27  91 165  69  81 103 190 219  83 148 229  52  17\n",
      " 217  33 154 145 184   8 187 197  10 142 123 162 223 199 220 201  82 122\n",
      " 159 112  49 139  12  29 172 213   3  62  41 130  19  21 218 156 210 177\n",
      " 179 180 108 205 185 104  47 161 192 178 198 114 208  38  26 207 118 106\n",
      "  34  32 131 224 151 209 173  74  56 215 191 170  28  73  44  45 158  57\n",
      "  43 189   1  59  11   7 188   9   2 212 226  20 181 126   6  92 203 150\n",
      " 144  50 204  18  31 196 149  24 166  30 138  23 176 195 105  13 182  14\n",
      " 143  64 194  15  16 206  79  53  22 183 200  25 186  68]\n",
      "['NO PROC' 'ELECTROCARDIOGRAM' 'HYSTERECTOMY; AB/VAG' 'CESAREAN SECTION'\n",
      " 'RESP INTUB/MECH VENTIL' 'OOPHORECTOMY; UNI/BILAT' 'BLOOD TRANSFUSION'\n",
      " 'INCISION OF PLEURA' 'CHOLECYSTECTOMY/EXPLOR' 'TRTMNT,FRAC LOWR EXTREM'\n",
      " 'OT VASC CATH; NOT HEART' 'OT PRCS TO ASSIST DELIV'\n",
      " 'UP GASTRO ENDOSC/BIOPSY' 'CIRCUMCISION' 'COLONOSCOPY AND BIOPSY'\n",
      " 'OT OR LOW GI THER PRCS' 'HIP REPLACEMENT,TOT/PRT'\n",
      " 'D&C; ASPIR AFT DLV/ABOR' 'PROPHYLACTIC VAC/INOCUL'\n",
      " 'REPAIR CUR OBS LACERATN' 'OT THER OBSTETRICAL PRC'\n",
      " 'TRTMNT,FRAC HIP/FEMUR' 'DEBRIDE WOUND,INF,BURN' 'OTHER THERAPEUTIC PRCS'\n",
      " 'OT NON-OR THER PRC SKIN' 'INCIS/DRAIN, SKIN/SUBCU'\n",
      " 'DIAGNOSTIC SPINAL TAP' 'OT NON-OR THER PRC MUSC'\n",
      " 'SUTURE SKIN/SUBCUT TISS' 'APPENDECTOMY' 'FORCEP;VAC;BREACH DELIV'\n",
      " 'LIG/OCCL FALLOPIAN TUBE' 'URETERAL CATHETERIZATN' 'LAPAROSCOPY'\n",
      " 'DX DILAT/CURETTAGE -D&C' 'OT THER PRCS ON MUSCLES'\n",
      " 'OT NON-OR THER PRC URIN' 'SMALL BOWEL RESECTON' 'EXPLORATORY LAPAROTOMY'\n",
      " 'OT OR GI THER PRCS' 'OT DX PRC (INTERVW,EVAL' 'OT OR THER PRC SKN/BRST'\n",
      " 'NASOGASTRIC TUBE' 'TRACTN, SPLNT, OT WOUND' 'OT NON-OR GI THER PRCS'\n",
      " 'GASTROSTOMY; TEMP/PERM' 'OTHER HERNIA REPAIR' 'COLORECTAL RESECTION'\n",
      " 'ART RUPT MEMB ASSIS DLV' 'AMPUTATE LOWER EXTRMITY'\n",
      " 'INGUINAL/FEMORAL HERNIA' 'OT EXC CERVIX & UTERUS'\n",
      " 'EXCISION; LYS PERI ADHS' 'OT OR THER PRC; FEM ORG' 'PRCS ON THE URETHRA'\n",
      " 'TRANSURETHRAL EXCISION' 'OT NON-OR THER PRCS; M' 'OTHER GI DX PRCS'\n",
      " 'PROCTOSCOPY & AR BIOPSY' 'ABDOMINAL PARACENTESIS'\n",
      " 'OT OR UP GI THER PRCS' 'CONV OF CARDIAC RHYTHM' 'INS CATHETER/SPNL STIM'\n",
      " 'ARTHROCENTESIS' 'DX ULTRASOUND HEART' 'EXTRACORP LTIHO;URINARY'\n",
      " 'BONE MARROW BIOPSY' 'OT NON-OR LW GI THER PR' 'TRACHE-/LARYNG-OSCOPY'\n",
      " 'DX PRCS; MALE GENITAL' 'REPAIR CYST-/RECT-OCELE' 'ARTHROPLASTY KNEE'\n",
      " 'EPISIOTOMY' 'OT NON-OR THER CARDIO' 'EMBOL-/ENDARTER-ECTOMY'\n",
      " 'DX BRONCHOSCOPY & BIOPS' 'CARDIAC PACEMAKER/DEFIB'\n",
      " 'LOBECTOMY/PNEUMONECTOMY' 'PERIPH VASCULAR BYPASS' 'PRCS ON SPLEEN'\n",
      " 'OT NON-OR UP GI THER PR' 'HEMODIALYSIS' 'OT THER PRCS; HEM/LYMPH'\n",
      " 'OT OR PRCS VES NOT HEAD' 'OT DX PRCS URINARY TRCT'\n",
      " 'THERAPEUTIC RADIOLOGY' 'ENDOSCOPY URINARY TRACT'\n",
      " 'OT OPERATIONS ON OVARY' 'OT DX PRCS OF RESP TRCT'\n",
      " 'ENDARTERECTOMY;VES HEAD' 'OT OR THER PRC MUSC/SKL'\n",
      " 'COLOSTOMY; TEMP/PERM' 'MASTECTOMY' 'OT OR RX PRCS RESP SYS'\n",
      " 'TRANS RES PROSTATE-TURP' 'CONTROL OF EPISTAXIS' 'PERITONEAL DIALYSIS'\n",
      " 'BREAST BIOPSY & DX PRCS' 'ESOPHAGEAL DILATATION' 'HEMORRHOID PRCS'\n",
      " 'NEPHRO-/NEPHROS-TOMY' 'ARTERIO FEMORAL/LOW ART' 'ALCO/DRUG REHAB/DETOX'\n",
      " 'BIOPSY OF LIVER' 'OT FRACTURE/DISLOC PRC' 'NONOP RMVL FOREIGN BODY'\n",
      " 'AORTIC RESECTION; REPL' 'DES LES RETINA/CHOROID' 'OTHER RESP THERAPY'\n",
      " 'OTHER OR THER PRCS NOSE' 'ARTHROPLASTY-NOT HIP/KN'\n",
      " 'TRTMNT,FRAC RADIUS/ULNA' 'INTRAOP CHOLANGIOGRAM'\n",
      " 'OT NON-OR THER NERV SYS' 'INTRAVENOUS PYELOGRAM' 'OTHER DX ULTRASOUND'\n",
      " 'THYROIDECTOMY;PART/FULL' 'PARTIAL EXCISION BONE'\n",
      " 'OT OPER FALLOPIAN TUBES' 'OT OR THER PRC ON JOINT'\n",
      " 'ENTERAL/PARENTERAL NUTR' 'ELECTROENCEPHALOGRAM' 'OPHTHALM-/OT-OLOGIC DX'\n",
      " 'CARDIAC STRESS TESTS' 'ENDO RETRO CAN OF PANCR' 'RMVL ECTOPIC PREGNANCY'\n",
      " 'OT DX PRCS ON MUSC/SKEL' 'OT OR THER PRCS URINARY' 'OTHER OR HEART PRCS'\n",
      " 'FETAL MONITORING' 'OT THER ENDOCRINE PRCS' 'ORAL AND DENTAL SVCS'\n",
      " 'SKIN GRAFT' 'PHYS THER EXER, MANIPUL' 'LAMINECTOMY; EXC IV DSC'\n",
      " 'OT DX CARDIOVASC PRCS' 'OT NON-OR THER PRC RESP'\n",
      " 'OT DX PRCS; FEMALE ORGN' 'OT THER PRCS EYELIDS'\n",
      " 'OT EXTRAOCULAR MUSC/ORB' 'PSYCHO/PSYCHI EVAL/THER'\n",
      " 'INJ/ASP MUSC,TENDONS,ST' 'OTHER RADIOISOTOPE SCAN'\n",
      " 'COMP AXIAL TOMOGR (CT)' 'CT SCAN ABDOMEN' 'OTHER CT SCAN'\n",
      " 'INDWELLING CATHETER' 'ARTERIAL BLOOD GASES' 'UPPER GI X-RAY'\n",
      " 'NEPHRECTOMY; PART/TOTAL' 'DX CARDIAC CATHETERIZTN'\n",
      " 'OT OR THER PRCS ON BONE' 'DX ULTRASOUND HEAD/NECK' 'CT SCAN CHEST'\n",
      " 'MAG RESONANCE IMAGING' 'OPEN PROSTATECTOMY' 'RADIOISOTOPE PULM SCAN'\n",
      " 'OT DX PRCS ON LUNG' 'OT THERAPEUTIC EAR PRCS' 'RADIOISOTOPE BONE SCAN'\n",
      " 'OT OR THER PRCS; MALE' 'GENI INCONTINENCE PRCS'\n",
      " 'TRACHEOSTOMY; TEMP/PERM' 'OT NON-OR THER PRC NOSE'\n",
      " 'OT NON-OR THER PRC; FEM' 'CANCER CHEMOTHERAPY' 'EXC OF SEMI CART KNEE'\n",
      " 'RADIOISOTOPE SCAN/FUNCT' 'OT DX PRC SKIN/SUBCUTAN'\n",
      " 'GASTRECTOMY; PART/TOTAL' 'OT VASCULAR BYP/SHUNT' 'OT PHYS THER/REHAB'\n",
      " 'ARTERIO/VENOGRAM-NOT HH' 'EXCISION OF SKIN LESION'\n",
      " 'PLASTIC PRCS ON NOSE' 'ILEO- & OT ENTER-OSTOMY'\n",
      " 'COR ARTERY BYP GRF-CABG' 'PERC TRANSLUM COR ANGIO' 'SPINAL FUSION'\n",
      " 'ARTERIOVENOUS FISTULA' 'HEART VALVE PRCS' 'CONTRAST AORTOGRAM'\n",
      " 'INCISION & EXCISION CNS' 'OT OR PRCS ON VES HEAD' 'DX ENDOCRINE PRCS'\n",
      " 'OTHER DX NERV SYS PRCS' 'CEREBRAL ARTERIOGRAM' 'OTHER OR THER NERV SYS'\n",
      " 'IRR XCRANIAL VENT SHUNT' 'DX PHYSICAL THERAPY' 'OT DX RADIO & RELATED'\n",
      " 'OT INTRAOCULAR THER PRC' 'MYELOGRAM' 'ABORTION (TERM OF PREG)'\n",
      " 'DECOMP PERIPHERAL NERVE' 'OTHER BOWEL DX PRCS' 'ELECTROGR CARDIAC MONIT'\n",
      " 'DIV OF JOINT CAPSULE' 'TRTMNT,FACE FRACT/DISLC'\n",
      " 'EXTRA CIRC AUX OPEN HRT' 'SWAN-GANZ CATH MONITOR' 'DX PRCS ON EYE'\n",
      " 'DX PRCS ON NOSE & MOUTH' 'DX ULTRASOUND AB/RETRO' 'ARTHROSCOPY'\n",
      " 'MASTOIDECTOMY' 'LUMPECTOMY, QUAD BREAST' 'TONSIL-/ADENOID-ECTOMY'\n",
      " 'DX AMNIOCENTESIS' 'MYRINGOTOMY' 'OT ORGAN TRANSPLANTATN'\n",
      " 'DX ULTRASOUND URINARY' 'KIDNEY TRANSPLANT' 'CORNEAL TRANSPLANT'\n",
      " 'MAMMOGRAPHY' 'GLAUCOMA PROCEDURES' 'BUNIONECTOMY/TOE DEFORM'\n",
      " 'BONE MARROW TRANSPLANT' 'DX ULTRASOUND OF GI' 'LENS & CATARACT PRCS'\n",
      " 'REPAIR RETINAL TEAR' 'MICRO EX (BACT SMEAR)' 'LOC EXC LRG INTEST LESN'\n",
      " 'VARI VEIN STRIP;LOW LMB' 'TYMPANOPLASTY' 'ROUTINE CHEST X-RAY'\n",
      " 'NONOP URINARY SYS MEASR' 'DX PRCS ON EAR' 'LOWER GI X-RAY'\n",
      " 'INJ/LIG ESOPH VARICES']\n",
      "['Other pneumonia' 'Cellulitis & other skin infections'\n",
      " 'Other digestive system diagnoses'\n",
      " 'Other gastroenteritis, nausa & vomiting' 'Bronchiolitis & RSV pneumonia'\n",
      " 'Chronic obstructive pulmonary disease'\n",
      " 'Infections of upper respiratory tract'\n",
      " 'Kidney & urinary tract infections'\n",
      " 'Respiratory signs, symptoms & minor diagnoses' 'Intestinal obstruction'\n",
      " 'Post-operative, post-traumatic, other device infections'\n",
      " 'Diverticulitis & diverticulosis'\n",
      " 'Other ear, nose, mouth,throat & cranial/facial diagnoses'\n",
      " 'Major chest & respiratory trauma'\n",
      " 'Other & unspecified gastrointestinal hemorrhage' 'Asthma'\n",
      " 'Electrolyte disorders except hypovolemia related'\n",
      " 'Malnutrition, failure to thrive & other nutritional disorders'\n",
      " 'Hypovolemia & related electrolyte disorders'\n",
      " 'Other injury, poisoning & toxic effect diagnoses'\n",
      " 'Peripheral & other vascular disorders'\n",
      " 'Other musculoskeletal system & connective tissue diagnoses'\n",
      " 'Other kidney & urinary tract diagnoses, signs & symptoms'\n",
      " 'Head trauma w coma >1 hr or hemorrhage'\n",
      " 'Signs, symptoms & other factors influencing health status'\n",
      " 'RENAL FAILURE' 'Multiple sclerosis & other demyelinating diseases'\n",
      " 'Hypertension' 'Interstitial & alveolar lung diseases'\n",
      " 'Contusion, open wound & other trauma to skin & subcutaneous tissue'\n",
      " 'Disorders of pancreas except malignancy' 'Connective tissue disorders'\n",
      " 'Uterine & adnexa procedures for non-malignancy except leiomyoma'\n",
      " 'Cesarean delivery' 'Septicemia & disseminated infections'\n",
      " 'Respiratory Failure' 'Inflammatory bowel disease'\n",
      " 'Other respiratory diagnoses except signs, symptoms & minor diagnoses'\n",
      " 'Alcohol abuse & dependence' 'Laparoscopic cholecystectomy'\n",
      " 'Major respiratory infections & inflammations'\n",
      " 'Fractures & dislocations except femur, pelvis & back'\n",
      " 'Angina pectoris & coronary atherosclerosis' 'Vaginal delivery'\n",
      " 'Disorders of gallbladder & biliary tract' 'Other endocrine disorders'\n",
      " 'Malfunction, reaction, complic of genitourinary device or proc'\n",
      " 'Neonate birthwt >2499g, normal newborn or neonate w other problem'\n",
      " 'Chest pain' 'Heart failure'\n",
      " 'Menstrual & other female reproductive system disorders'\n",
      " 'Pulmonary embolism' 'Peripheral, cranial & autonomic nerve disorders'\n",
      " 'Major small & large bowel procedures' 'Hip joint replacement'\n",
      " 'Major hematologic/immunologic diag exc sickle cell crisis & coagul'\n",
      " 'Poisoning of medicinal agents' 'CVA & precerebral occlusion w infarct'\n",
      " 'Nonextensive procedure unrelated to principal diagnosis'\n",
      " 'Major gastrointestinal & peritoneal infections'\n",
      " 'Acute myocardial infarction'\n",
      " 'Musculoskeletal malignancy & pathol fracture d/t muscskel malig'\n",
      " 'Cardiac arrhythmia & conduction disorders' 'Other antepartum diagnoses'\n",
      " 'Hip and femur fracture repair' 'Abdominal pain'\n",
      " 'Other anemia & disorders of blood & blood-forming organs'\n",
      " 'Malfunction, reaction & complication of GI device or procedure'\n",
      " 'Fracture of pelvis or dislocation of hip'\n",
      " 'HIV w major HIV related condition'\n",
      " 'Uterine & adnexa procedures for leiomyoma'\n",
      " 'Neonate bwt 2000-2499g, normal newborn or neonate w other problem'\n",
      " 'Opioid abuse & dependence'\n",
      " 'Respiratory system diagnosis w ventilator support 96+ hours' 'Seizure'\n",
      " 'Drug & alcohol abuse or dependence, left against medical advice'\n",
      " 'Nephritis & nephrosis'\n",
      " 'Neonate, birthwt >2499g w resp dist synd/oth maj resp cond'\n",
      " 'Malignant breast disorders' 'Peptic ulcer & gastritis'\n",
      " 'Syncope & collapse' 'Appendectomy' 'Viral illness'\n",
      " 'Vaginal delivery w sterilization &/or D&C'\n",
      " 'Urinary stones & acquired upper urinary tract obstruction'\n",
      " 'Other female reproductive system & related procedures'\n",
      " 'Moderately extensive procedure unrelated to principal diagnosis'\n",
      " 'Dilation & curettage for non-obstetric diagnoses'\n",
      " 'Cardiac structural & valvular disorders' 'Nervous system malignancy'\n",
      " 'Other back & neck disorders, fractures & injuries'\n",
      " 'Other nervous system & related procedures' 'Digestive malignancy'\n",
      " 'Other circulatory system diagnoses'\n",
      " 'Infectious & parasitic diseases including HIV w O.R. procedure'\n",
      " 'Diabetes' 'Other digestive system & abdominal procedures'\n",
      " 'Vaginal delivery w complicating procedures exc sterilization &/or D&C'\n",
      " 'Neonate, transferred < 5 days old, born here' 'Allergic reactions'\n",
      " 'Major esophageal disorders'\n",
      " 'Neonate birthwt >2499g w other significant condition'\n",
      " 'Major depressive disorders & other/unspecified psychoses'\n",
      " 'Vertigo & other labyrinth disorders'\n",
      " 'Procedure w diag of rehab, aftercare or oth contact w health service'\n",
      " 'Skin ulcers' 'Fracture of femur' 'Foot & toe procedures'\n",
      " 'Post-op, post-trauma, other device infections w O.R. procedure'\n",
      " 'Inguinal, femoral & umbilical hernia procedures'\n",
      " 'Abortion w/o D&C, aspiration curettage or hysterotomy'\n",
      " 'Transient ischemia' 'Peritoneal adhesiolysis'\n",
      " 'Toxic effects of non-medicinal substances' 'Fever'\n",
      " 'Malignancy of hepatobiliary system & pancreas'\n",
      " 'D&C, aspiration curettage or hysterotomy for obstetric diagnoses'\n",
      " 'Organic mental health disturbances' 'Preterm labor'\n",
      " 'Tendon, muscle & other soft tissue procedures' 'Intracranial hemorrhage'\n",
      " 'O.R. procedure for other complications of treatment'\n",
      " 'Urethral & transurethral procedures'\n",
      " 'Female reproductive system malignancy'\n",
      " 'Eye disorders except major infections' 'Nontraumatic stupor & coma'\n",
      " 'Other esophageal disorders'\n",
      " 'Multiple significant trauma w/o O.R. procedure'\n",
      " 'Male reproductive system diagnoses except malignancy'\n",
      " 'Other drug abuse & dependence'\n",
      " 'Osteomyelitis, septic arthritis & other musculoskeletal infections'\n",
      " 'Dental & oral diseases & injuries'\n",
      " 'Major stomach, esophageal & duodenal procedures'\n",
      " 'Respiratory malignancy'\n",
      " 'Malfunction,reaction,complication of cardiac/vasc device or procedure'\n",
      " 'Neonate birthwt >2499g w major anomaly'\n",
      " 'Other skin, subcutaneous tissue & breast disorders'\n",
      " 'Alcoholic liver disease'\n",
      " 'Lymphatic & other malignancies & neoplasms of uncertain behavior'\n",
      " 'Other significant hip and femur surgery'\n",
      " 'Major O.R. procedures for lymphatic/hematopoietic/other neoplasms'\n",
      " 'Extensive procedure unrelated to principal diagnosis'\n",
      " 'Kidney & urinary tract malignancy' 'Inborn errors of metabolism'\n",
      " 'Other hepatobiliary, pancreas & abdominal procedures'\n",
      " 'Other small & large bowel procedures'\n",
      " 'Cholecystectomy except laparoscopic' 'Anal procedures'\n",
      " 'Depression except major depressive disorder'\n",
      " 'Other disorders of nervous system'\n",
      " 'Knee & lower leg procedures except foot'\n",
      " 'Other complications of treatment'\n",
      " 'Degenerative nervous system disorders exc mult sclerosis'\n",
      " 'Knee joint replacement'\n",
      " 'Hepatic coma & other major acute liver disorders'\n",
      " 'OTHER VASCULAR PROCEDURES' 'Amputation of lower limb except toes'\n",
      " 'Gastrointestinal vascular insufficiency'\n",
      " 'Other respiratory & chest procedures' 'Splenectomy'\n",
      " 'Perm cardiac pacemaker implant w/o AMI, heart failure or shock'\n",
      " 'Other O.R. procedures for lymphatic/hematopoietic/other neoplasms'\n",
      " 'Coagulation & platelet disorders'\n",
      " 'Hernia procedures except inguinal, femoral & umbilical'\n",
      " 'Sickle cell anemia crisis' 'Major skin disorders'\n",
      " 'Partial thickness burns without skin graft'\n",
      " 'Other disorders of the liver' 'Schizophrenia'\n",
      " 'Extracranial vascular procedures'\n",
      " 'Lymphoma, myeloma & non-acute leukemia'\n",
      " 'Non-bacterial infections of nervous system exc viral meningitis'\n",
      " 'Other infectious & parasitic diseases'\n",
      " 'Uterine & adnexa procedures for non-ovarian & non-adnexal malig'\n",
      " 'Mastectomy procedures' 'Major respiratory & chest procedures'\n",
      " 'Malfunction, reaction, complic of orthopedic device or procedure'\n",
      " 'Transurethral prostatectomy'\n",
      " 'Concussion, closed skull Fx nos,uncomplicated intracranial injury, coma < 1 hr or no coma'\n",
      " 'Nonspecific CVA & precerebral occlusion w/o infarct'\n",
      " 'Breast procedures except mastectomy'\n",
      " 'Neonate birthwt >2499g w congenital/perinatal infection'\n",
      " 'Neonate bwt 2000-2499g w other significant condition'\n",
      " 'Neonate bwt 1500-1999g w or w/o other significant condition'\n",
      " 'Cardiac arrest and shock' 'Malignancy, male reproductive system'\n",
      " 'Major abdominal vascular procedures'\n",
      " 'Tracheostomy w MV 96+ hours w extensive procedure or ECMO'\n",
      " 'Other mental health disorders'\n",
      " 'Other O.R. proc for obstetric diagnoses except delivery diagnoses'\n",
      " 'Tonsil & adenoid procedures'\n",
      " 'Other kidney, urinary tract & related procedures'\n",
      " 'Female reproductive system reconstructive procedures'\n",
      " 'Shoulder, upper arm & forearm procedures except joint replacement'\n",
      " 'Permanent cardiac pacemaker implant w AMI, heart failure or shock'\n",
      " 'Ectopic pregnancy procedure'\n",
      " 'Thyroid, parathyroid & thyroglossal procedures'\n",
      " 'Female reproductive system infections'\n",
      " 'Uterine & adnexa procedures for ovarian & adnexal malignancy'\n",
      " 'Rehabilitation' 'Bipolar disorders'\n",
      " 'Other skin, subcutaneous tissue & related procedures'\n",
      " 'Tracheostomy w MV 96+ hours w/o extensive procedure' 'Eating disorders'\n",
      " 'Migraine & other headaches' 'Viral meningitis'\n",
      " 'Acute anxiety & delirium states'\n",
      " 'Postpartum & post abortion diagnoses w/o procedure'\n",
      " 'Acute major eye infections' 'Neonate bwt <500g or GA <24 weeks'\n",
      " 'Other stomach, esophageal & duodenal procedures'\n",
      " 'Other circulatory system procedures'\n",
      " 'Neonate birthwt 1500-1999g w congenital/perinatal infection'\n",
      " 'Kidney & urinary tract procedures for nonmalignancy'\n",
      " 'HIV w one signif HIV cond or w/o signif related cond'\n",
      " 'Skin graft for skin & subcutaneous tissue diagnoses'\n",
      " 'Principal diagnosis invalid as discharge diagnosis'\n",
      " 'Cystic fibrosis - pulmonary disease'\n",
      " 'Other musculoskeletal system & connective tissue procedures'\n",
      " 'Hand & wrist procedures'\n",
      " 'Neonate, transferred <5 days old, not born here'\n",
      " 'Acute & subacute endocarditis'\n",
      " 'Ear, nose, mouth, throat, cranial/facial malignancies'\n",
      " 'HIV w multiple major HIV related conditions' 'Spinal procedures'\n",
      " 'Other bladder procedures'\n",
      " 'Other procedures for endocrine, nutritional & metabolic disorders'\n",
      " 'Spinal disorders & injuries'\n",
      " 'Alcohol & drug dependence w rehab or rehab/detox therapy'\n",
      " 'Behavioral disorders'\n",
      " 'Adjustment disorders & neuroses except depressive diagnoses'\n",
      " 'Cardiac defibrillator & heart assist implant' 'Major bladder procedures'\n",
      " 'Intervertebral disc excision & decompression'\n",
      " 'Extensive abdominal/thoracic procedures for mult significant trauma'\n",
      " 'Major male pelvic procedures'\n",
      " 'Cardiac catheterization for coronary artery disease'\n",
      " 'Kidney & urinary tract procedures for malignancy'\n",
      " 'Testes & scrotal procedures'\n",
      " 'Percutaneous coronary intervention w/o AMI'\n",
      " 'Cardiac catheterization for other non-coronary conditions'\n",
      " 'Other male reproductive system & related procedures' 'Cardiomyopathy'\n",
      " 'Cardiac pacemaker & defibrillator device replacement' 'Acute leukemia'\n",
      " 'Bacterial & tuberculous infections of nervous system'\n",
      " 'Musculoskeletal & other procedures for multiple significant trauma'\n",
      " 'Neonate bwt 2000-2499g w major anomaly' 'Cocaine abuse & dependence'\n",
      " 'Major pancreas, liver & shunt procedures'\n",
      " 'Neonate bwt 2000-2499g w congenital/perinatal infection'\n",
      " 'Brain contusion/laceration & complicated skull Fx, coma < 1 hr or no coma'\n",
      " 'Coronary bypass w AMI or complex PDX'\n",
      " 'Renal dialysis access device procedure only'\n",
      " 'Percutaneous coronary intervention w AMI'\n",
      " 'Mental illness diagnosis w O.R. procedure'\n",
      " 'Cardiac valve procedures w AMI or complex PDX'\n",
      " 'Cardiac valve procedures w/o AMI or complex PDX'\n",
      " 'Dorsal & lumbar fusion proc except for curvature of back'\n",
      " 'Cardiac pacemaker & defibrillator revision except device replacement'\n",
      " 'Cervical spinal fusion & other back/neck proc exc disc excis/decomp'\n",
      " 'Craniotomy except for trauma' 'Ventricular shunt procedures'\n",
      " 'Other procedures of blood & blood-forming organs'\n",
      " 'Coronary bypass w/o AMI or complex PDX' 'Pituitary & adrenal procedures'\n",
      " 'Craniotomy for multiple significant trauma'\n",
      " 'Other cardiothoracic & thoracic vascular procedures'\n",
      " 'Procedures for obesity'\n",
      " 'Dorsal & lumbar fusion proc for curvature of back'\n",
      " 'Other ear, nose, mouth & throat procedures'\n",
      " 'Major biliary tract procedures'\n",
      " 'Skin graft, except hand, for musculoskeletal & connective tissue diagnoses'\n",
      " 'HIV w multiple significant HIV related conditions' 'Penis procedures'\n",
      " 'Other aftercare & convalescence'\n",
      " 'Disorders of personality & impulse control'\n",
      " 'Major cranial/facial bone procedures' 'Craniotomy for trauma'\n",
      " 'Facial bone procedures except major cranial/facial bone procedures'\n",
      " 'Sinus & mastoid procedures'\n",
      " 'Neonate birthwt 500-749g w/o major procedure'\n",
      " 'Neonate bwt <1500g w major procedure'\n",
      " 'Neonate birthwt 750-999g w/o major procedure'\n",
      " 'Neonate birthwt 1500-1999g w major anomaly'\n",
      " 'Neonate bwt 2000-2499g w resp dist synd/oth maj resp cond'\n",
      " 'CHEMOTHERAPY'\n",
      " 'Neonate bwt 1000-1249g w resp dist synd/oth maj resp or maj anom'\n",
      " 'Neonate bwt 1250-1499g w resp dist synd/oth maj resp or maj anom'\n",
      " 'BPD & oth chronic respiratory diseases arising in perinatal period'\n",
      " 'Neonate birthwt >2499g w other major procedure'\n",
      " 'Neonate bwt 1500-1999g w resp dist synd/oth maj resp cond'\n",
      " 'Neonate bwt 1500-2499g w major procedure'\n",
      " 'Neonate birthwt 1000-1249g w or w/o other significant condition'\n",
      " 'Orbital procedures'\n",
      " 'Neonate bwt 1250-1499g w or w/o other significant condition'\n",
      " 'Cleft lip & palate repair' 'False labor'\n",
      " 'Liver transplant &/or intestinal transplant'\n",
      " 'Major larynx & trachea procedures'\n",
      " 'Extensive 3rd degree or full thickness burns w/o skin graft'\n",
      " 'Eye procedures except orbit'\n",
      " 'Pelvic evisceration, radical hysterectomy & other radical GYN procs'\n",
      " 'Neonate w ECMO' 'Other major head & neck procedures' 'Kidney transplant'\n",
      " 'Pancreas transplant'\n",
      " 'Burns with skin graft except extensive 3rd degree burns'\n",
      " 'Major cardiothoracic repair of heart anomaly'\n",
      " 'Extensive 3rd degree burns w skin graft' 'Neonatal aftercare'\n",
      " 'Radiotherapy' 'Bone marrow transplant' 'Ungroupable'\n",
      " 'Heart &/or lung transplant'\n",
      " 'Neonate birthwt >2499g w major cardiovascular procedure']\n",
      "['Diseases and Disorders of the Respiratory System'\n",
      " 'Diseases and Disorders of the Skin, Subcutaneous Tissue and Breast'\n",
      " 'Diseases and Disorders of the Digestive System'\n",
      " 'Ear, Nose, Mouth, Throat and Craniofacial Diseases and Disorders'\n",
      " 'Diseases and Disorders of the Kidney and Urinary Tract'\n",
      " 'Infectious and Parasitic Diseases, Systemic or Unspecified Sites'\n",
      " 'Endocrine, Nutritional and Metabolic Diseases and Disorders'\n",
      " 'Poisonings, Toxic Effects, Other Injuries and Other Complications of Treatment'\n",
      " 'Diseases and Disorders of the Circulatory System'\n",
      " 'Diseases and Disorders of the Musculoskeletal System and Conn Tissue'\n",
      " 'Diseases and Disorders of the Nervous System'\n",
      " 'Rehabilitation, Aftercare, Other Factors Influencing Health Status and Other Health Service Contacts'\n",
      " 'Diseases and Disorders of the Hepatobiliary System and Pancreas'\n",
      " 'Diseases and Disorders of the Female Reproductive System'\n",
      " 'Pregnancy, Childbirth and the Puerperium'\n",
      " 'Alcohol/Drug Use and Alcohol/Drug Induced Organic Mental Disorders'\n",
      " 'Newborns and Other Neonates with Conditions Originating in the Perinatal Period'\n",
      " 'Diseases and Disorders of Blood, Blood Forming Organs and Immunological Disorders'\n",
      " 'Human Immunodeficiency Virus Infections' 'Mental Diseases and Disorders'\n",
      " 'Diseases and Disorders of the Eye' 'Multiple Significant Trauma'\n",
      " 'Diseases and Disorders of the Male Reproductive System'\n",
      " 'Lymphatic, Hematopoietic, Other Malignancies, Chemotherapy and Radiotherapy'\n",
      " 'Burns' 'Pre-MDC or Ungroupable']\n",
      "[1 3 2 4 0]\n",
      "['Minor' 'Major' 'Moderate' 'Extreme' nan]\n",
      "['Minor' 'Major' 'Moderate' 'Extreme' nan]\n",
      "['Medical' 'Surgical' 'Not Applicable']\n",
      "['Blue Cross/Blue Shield' 'Medicare' 'Private Health Insurance' 'Medicaid'\n",
      " 'Federal/State/Local/VA' 'Self-Pay' 'Miscellaneous/Other'\n",
      " 'Department of Corrections' 'Managed Care, Unspecified' 'Unknown']\n",
      "[nan 'Medicaid' 'Private Health Insurance' 'Federal/State/Local/VA'\n",
      " 'Medicare' 'Self-Pay' 'Blue Cross/Blue Shield' 'Miscellaneous/Other'\n",
      " 'Department of Corrections' 'Managed Care, Unspecified' 'Unknown']\n",
      "[nan 'Medicaid' 'Self-Pay' 'Medicare' 'Private Health Insurance'\n",
      " 'Blue Cross/Blue Shield' 'Federal/State/Local/VA' 'Miscellaneous/Other'\n",
      " 'Managed Care, Unspecified' 'Department of Corrections' 'Unknown']\n",
      "[   0 2900 3200 3000 3600 3800 3100 3300 3500 3400 4300 2000 2300 2600\n",
      " 2700 3700 3900 2200 2800 4200 4800 4000 4100 2500 2400 2100 4400 1800\n",
      " 5100 5400 5800 1900  500 4700  700 4600 4500 1000  400 1700 1500 4900\n",
      " 6000 1300 1100 1200  300 1600 5200  900  600 1400  800  200 5000 5300\n",
      " 5600 5700 7000 5500  100 7300 8000 6100 6900 9000 8500 6400 8400 5900]\n",
      "['N' 'Y']\n",
      "['Y' 'N']\n",
      "[  5511.95   4783.2    3829.15 ... 104629.78  27521.41  24832.23]\n",
      "[ 5582.49  5162.82  4056.52 ... 13896.82 24746.64  6766.04]\n",
      "[1.01279761 1.0793645  1.05937866 ... 0.2365162  0.24584628 0.20033072]\n",
      "['Genuine' 'Fraudulent']\n"
     ]
    }
   ],
   "source": [
    "#check each row unquie value\n",
    "for c in col:\n",
    "    print(insurance1[c].unique())"
   ]
  },
  {
   "cell_type": "code",
   "execution_count": 6,
   "metadata": {},
   "outputs": [
    {
     "name": "stderr",
     "output_type": "stream",
     "text": [
      "/opt/anaconda3/lib/python3.7/site-packages/pandas/core/frame.py:4102: SettingWithCopyWarning: \n",
      "A value is trying to be set on a copy of a slice from a DataFrame\n",
      "\n",
      "See the caveats in the documentation: http://pandas.pydata.org/pandas-docs/stable/user_guide/indexing.html#returning-a-view-versus-a-copy\n",
      "  errors=errors,\n"
     ]
    }
   ],
   "source": [
    "#year is same ,payment_typology_3 almost empty\n",
    "insurance1.drop(columns=['year_discharge','payment_typology_3'],inplace=True)"
   ]
  },
  {
   "cell_type": "code",
   "execution_count": 10,
   "metadata": {},
   "outputs": [
    {
     "data": {
      "image/png": "[encoded data removed]",
      "text/plain": [
       "<Figure size 2520x1800 with 1 Axes>"
      ]
     },
     "metadata": {
      "needs_background": "light"
     },
     "output_type": "display_data"
    }
   ],
   "source": [
    "#Histogam for \"Age\"\n",
    "insurance1[\"Age\"].hist(figsize = (35,25))\n",
    "plt.show()"
   ]
  },
  {
   "cell_type": "code",
   "execution_count": 16,
   "metadata": {},
   "outputs": [
    {
     "data": {
      "image/png": "[encoded data removed]",
      "text/plain": [
       "<Figure size 2520x1800 with 1 Axes>"
      ]
     },
     "metadata": {
      "needs_background": "light"
     },
     "output_type": "display_data"
    }
   ],
   "source": [
    "#Histogam for \"zip_code_3_digits\"\n",
    "insurance1[\"zip_code_3_digits\"].hist(figsize = (35,25))\n",
    "plt.show()"
   ]
  },
  {
   "cell_type": "code",
   "execution_count": 7,
   "metadata": {},
   "outputs": [
    {
     "name": "stderr",
     "output_type": "stream",
     "text": [
      "/opt/anaconda3/lib/python3.7/site-packages/pandas/core/indexing.py:494: SettingWithCopyWarning: \n",
      "A value is trying to be set on a copy of a slice from a DataFrame.\n",
      "Try using .loc[row_indexer,col_indexer] = value instead\n",
      "\n",
      "See the caveats in the documentation: http://pandas.pydata.org/pandas-docs/stable/user_guide/indexing.html#returning-a-view-versus-a-copy\n",
      "  self.obj[item] = s\n"
     ]
    }
   ],
   "source": [
    "insurance1.loc[insurance1['zip_code_3_digits']=='OOS','zip_code_3_digits']=111"
   ]
  },
  {
   "cell_type": "code",
   "execution_count": 8,
   "metadata": {
    "scrolled": true
   },
   "outputs": [
    {
     "name": "stderr",
     "output_type": "stream",
     "text": [
      "/opt/anaconda3/lib/python3.7/site-packages/ipykernel_launcher.py:1: SettingWithCopyWarning: \n",
      "A value is trying to be set on a copy of a slice from a DataFrame.\n",
      "Try using .loc[row_indexer,col_indexer] = value instead\n",
      "\n",
      "See the caveats in the documentation: http://pandas.pydata.org/pandas-docs/stable/user_guide/indexing.html#returning-a-view-versus-a-copy\n",
      "  \"\"\"Entry point for launching an IPython kernel.\n"
     ]
    }
   ],
   "source": [
    "insurance1['zip_code_3_digits']=insurance1['zip_code_3_digits'].astype(str)"
   ]
  },
  {
   "cell_type": "code",
   "execution_count": 9,
   "metadata": {},
   "outputs": [
    {
     "name": "stderr",
     "output_type": "stream",
     "text": [
      "/opt/anaconda3/lib/python3.7/site-packages/ipykernel_launcher.py:2: SettingWithCopyWarning: \n",
      "A value is trying to be set on a copy of a slice from a DataFrame.\n",
      "Try using .loc[row_indexer,col_indexer] = value instead\n",
      "\n",
      "See the caveats in the documentation: http://pandas.pydata.org/pandas-docs/stable/user_guide/indexing.html#returning-a-view-versus-a-copy\n",
      "  \n"
     ]
    },
    {
     "data": {
      "text/plain": [
       "127.4153701534799"
      ]
     },
     "execution_count": 9,
     "metadata": {},
     "output_type": "execute_result"
    }
   ],
   "source": [
    "insurance1.loc[insurance1['zip_code_3_digits']=='nan','zip_code_3_digits']='102'\n",
    "insurance1['zip_code_3_digits']=insurance1['zip_code_3_digits'].astype(int)\n",
    "np.mean(insurance1['zip_code_3_digits'])"
   ]
  },
  {
   "cell_type": "code",
   "execution_count": 10,
   "metadata": {},
   "outputs": [
    {
     "name": "stderr",
     "output_type": "stream",
     "text": [
      "/opt/anaconda3/lib/python3.7/site-packages/ipykernel_launcher.py:1: SettingWithCopyWarning: \n",
      "A value is trying to be set on a copy of a slice from a DataFrame\n",
      "\n",
      "See the caveats in the documentation: http://pandas.pydata.org/pandas-docs/stable/user_guide/indexing.html#returning-a-view-versus-a-copy\n",
      "  \"\"\"Entry point for launching an IPython kernel.\n"
     ]
    }
   ],
   "source": [
    "insurance1.dropna(inplace=True)"
   ]
  },
  {
   "cell_type": "code",
   "execution_count": 21,
   "metadata": {},
   "outputs": [],
   "source": [
    "#insurance1.reset_index(drop=True).head()"
   ]
  },
  {
   "cell_type": "code",
   "execution_count": 11,
   "metadata": {},
   "outputs": [
    {
     "data": {
      "text/plain": [
       "Area_Service                             0\n",
       "Hospital County                          0\n",
       "Certificate_num                          0\n",
       "Hospital Name                            0\n",
       "Age                                      0\n",
       "zip_code_3_digits                        0\n",
       "Gender                                   0\n",
       "Cultural_group                           0\n",
       "ethnicity                                0\n",
       "Days_spend_hsptl                         0\n",
       "Admission_type                           0\n",
       "Home or self care,                       0\n",
       "ccs_diagnosis_code                       0\n",
       "ccs_diagnosis_description                0\n",
       "ccs_procedure_code                       0\n",
       "ccs_procedure_description                0\n",
       "apr_drg_description                      0\n",
       "apr_mdc_description                      0\n",
       "Code_illness                             0\n",
       "Description_illness                      0\n",
       "Mortality risk                           0\n",
       "Surg_Description                         0\n",
       "Payment_typology_1                       0\n",
       "payment_typology_2                       0\n",
       "Weight_baby                              0\n",
       "Abortion                                 0\n",
       "Emergency dept_yes/No                    0\n",
       "Tot_charg                                0\n",
       "Tot_cost                                 0\n",
       "ratio_of_total_costs_to_total_charges    0\n",
       "Result                                   0\n",
       "dtype: int64"
      ]
     },
     "execution_count": 11,
     "metadata": {},
     "output_type": "execute_result"
    }
   ],
   "source": [
    "insurance1.isnull().sum()"
   ]
  },
  {
   "cell_type": "code",
   "execution_count": 23,
   "metadata": {},
   "outputs": [
    {
     "data": {
      "text/plain": [
       "(691083, 31)"
      ]
     },
     "execution_count": 23,
     "metadata": {},
     "output_type": "execute_result"
    }
   ],
   "source": [
    "insurance1.shape"
   ]
  },
  {
   "cell_type": "code",
   "execution_count": 12,
   "metadata": {},
   "outputs": [
    {
     "data": {
      "text/html": [
       "<div>\n",
       "<style scoped>\n",
       "    .dataframe tbody tr th:only-of-type {\n",
       "        vertical-align: middle;\n",
       "    }\n",
       "\n",
       "    .dataframe tbody tr th {\n",
       "        vertical-align: top;\n",
       "    }\n",
       "\n",
       "    .dataframe thead th {\n",
       "        text-align: right;\n",
       "    }\n",
       "</style>\n",
       "<table border=\"1\" class=\"dataframe\">\n",
       "  <thead>\n",
       "    <tr style=\"text-align: right;\">\n",
       "      <th></th>\n",
       "      <th>Area_Service</th>\n",
       "      <th>Hospital County</th>\n",
       "      <th>Certificate_num</th>\n",
       "      <th>Hospital Name</th>\n",
       "      <th>zip_code_3_digits</th>\n",
       "      <th>Days_spend_hsptl</th>\n",
       "      <th>Home or self care,</th>\n",
       "      <th>ccs_diagnosis_code</th>\n",
       "      <th>ccs_diagnosis_description</th>\n",
       "      <th>ccs_procedure_code</th>\n",
       "      <th>...</th>\n",
       "      <th>Admission_type_Urgent</th>\n",
       "      <th>Mortality risk_Extreme</th>\n",
       "      <th>Mortality risk_Major</th>\n",
       "      <th>Mortality risk_Minor</th>\n",
       "      <th>Mortality risk_Moderate</th>\n",
       "      <th>Surg_Description_Medical</th>\n",
       "      <th>Surg_Description_Surgical</th>\n",
       "      <th>Abortion_N</th>\n",
       "      <th>Emergency dept_yes/No_N</th>\n",
       "      <th>Emergency dept_yes/No_Y</th>\n",
       "    </tr>\n",
       "  </thead>\n",
       "  <tbody>\n",
       "    <tr>\n",
       "      <td>43</td>\n",
       "      <td>Western NY</td>\n",
       "      <td>Allegany</td>\n",
       "      <td>226700.0</td>\n",
       "      <td>Cuba Memorial Hospital Inc</td>\n",
       "      <td>147</td>\n",
       "      <td>1</td>\n",
       "      <td>Short-term Hospital</td>\n",
       "      <td>153</td>\n",
       "      <td>Gastrointestinal hemorrhage</td>\n",
       "      <td>0</td>\n",
       "      <td>...</td>\n",
       "      <td>0</td>\n",
       "      <td>1</td>\n",
       "      <td>0</td>\n",
       "      <td>0</td>\n",
       "      <td>0</td>\n",
       "      <td>1</td>\n",
       "      <td>0</td>\n",
       "      <td>1</td>\n",
       "      <td>0</td>\n",
       "      <td>1</td>\n",
       "    </tr>\n",
       "    <tr>\n",
       "      <td>44</td>\n",
       "      <td>Western NY</td>\n",
       "      <td>Allegany</td>\n",
       "      <td>226700.0</td>\n",
       "      <td>Cuba Memorial Hospital Inc</td>\n",
       "      <td>147</td>\n",
       "      <td>1</td>\n",
       "      <td>Home or Self Care</td>\n",
       "      <td>122</td>\n",
       "      <td>Pneumonia (except that caused by tuberculosis ...</td>\n",
       "      <td>0</td>\n",
       "      <td>...</td>\n",
       "      <td>0</td>\n",
       "      <td>0</td>\n",
       "      <td>0</td>\n",
       "      <td>0</td>\n",
       "      <td>1</td>\n",
       "      <td>1</td>\n",
       "      <td>0</td>\n",
       "      <td>1</td>\n",
       "      <td>0</td>\n",
       "      <td>1</td>\n",
       "    </tr>\n",
       "    <tr>\n",
       "      <td>47</td>\n",
       "      <td>Western NY</td>\n",
       "      <td>Allegany</td>\n",
       "      <td>226700.0</td>\n",
       "      <td>Cuba Memorial Hospital Inc</td>\n",
       "      <td>140</td>\n",
       "      <td>1</td>\n",
       "      <td>Home or Self Care</td>\n",
       "      <td>127</td>\n",
       "      <td>Chronic obstructive pulmonary disease and bron...</td>\n",
       "      <td>0</td>\n",
       "      <td>...</td>\n",
       "      <td>0</td>\n",
       "      <td>0</td>\n",
       "      <td>0</td>\n",
       "      <td>0</td>\n",
       "      <td>1</td>\n",
       "      <td>1</td>\n",
       "      <td>0</td>\n",
       "      <td>1</td>\n",
       "      <td>0</td>\n",
       "      <td>1</td>\n",
       "    </tr>\n",
       "    <tr>\n",
       "      <td>48</td>\n",
       "      <td>Western NY</td>\n",
       "      <td>Allegany</td>\n",
       "      <td>226700.0</td>\n",
       "      <td>Cuba Memorial Hospital Inc</td>\n",
       "      <td>147</td>\n",
       "      <td>2</td>\n",
       "      <td>Home or Self Care</td>\n",
       "      <td>127</td>\n",
       "      <td>Chronic obstructive pulmonary disease and bron...</td>\n",
       "      <td>0</td>\n",
       "      <td>...</td>\n",
       "      <td>1</td>\n",
       "      <td>0</td>\n",
       "      <td>0</td>\n",
       "      <td>0</td>\n",
       "      <td>1</td>\n",
       "      <td>1</td>\n",
       "      <td>0</td>\n",
       "      <td>1</td>\n",
       "      <td>0</td>\n",
       "      <td>1</td>\n",
       "    </tr>\n",
       "    <tr>\n",
       "      <td>50</td>\n",
       "      <td>Western NY</td>\n",
       "      <td>Allegany</td>\n",
       "      <td>226700.0</td>\n",
       "      <td>Cuba Memorial Hospital Inc</td>\n",
       "      <td>147</td>\n",
       "      <td>2</td>\n",
       "      <td>Home or Self Care</td>\n",
       "      <td>127</td>\n",
       "      <td>Chronic obstructive pulmonary disease and bron...</td>\n",
       "      <td>0</td>\n",
       "      <td>...</td>\n",
       "      <td>0</td>\n",
       "      <td>0</td>\n",
       "      <td>0</td>\n",
       "      <td>1</td>\n",
       "      <td>0</td>\n",
       "      <td>1</td>\n",
       "      <td>0</td>\n",
       "      <td>1</td>\n",
       "      <td>0</td>\n",
       "      <td>1</td>\n",
       "    </tr>\n",
       "  </tbody>\n",
       "</table>\n",
       "<p>5 rows × 52 columns</p>\n",
       "</div>"
      ],
      "text/plain": [
       "   Area_Service Hospital County  Certificate_num               Hospital Name  \\\n",
       "43   Western NY        Allegany         226700.0  Cuba Memorial Hospital Inc   \n",
       "44   Western NY        Allegany         226700.0  Cuba Memorial Hospital Inc   \n",
       "47   Western NY        Allegany         226700.0  Cuba Memorial Hospital Inc   \n",
       "48   Western NY        Allegany         226700.0  Cuba Memorial Hospital Inc   \n",
       "50   Western NY        Allegany         226700.0  Cuba Memorial Hospital Inc   \n",
       "\n",
       "    zip_code_3_digits Days_spend_hsptl   Home or self care,  \\\n",
       "43                147                1  Short-term Hospital   \n",
       "44                147                1    Home or Self Care   \n",
       "47                140                1    Home or Self Care   \n",
       "48                147                2    Home or Self Care   \n",
       "50                147                2    Home or Self Care   \n",
       "\n",
       "    ccs_diagnosis_code                          ccs_diagnosis_description  \\\n",
       "43                 153                        Gastrointestinal hemorrhage   \n",
       "44                 122  Pneumonia (except that caused by tuberculosis ...   \n",
       "47                 127  Chronic obstructive pulmonary disease and bron...   \n",
       "48                 127  Chronic obstructive pulmonary disease and bron...   \n",
       "50                 127  Chronic obstructive pulmonary disease and bron...   \n",
       "\n",
       "    ccs_procedure_code  ... Admission_type_Urgent Mortality risk_Extreme  \\\n",
       "43                   0  ...                     0                      1   \n",
       "44                   0  ...                     0                      0   \n",
       "47                   0  ...                     0                      0   \n",
       "48                   0  ...                     1                      0   \n",
       "50                   0  ...                     0                      0   \n",
       "\n",
       "   Mortality risk_Major  Mortality risk_Minor Mortality risk_Moderate  \\\n",
       "43                    0                     0                       0   \n",
       "44                    0                     0                       1   \n",
       "47                    0                     0                       1   \n",
       "48                    0                     0                       1   \n",
       "50                    0                     1                       0   \n",
       "\n",
       "   Surg_Description_Medical Surg_Description_Surgical  Abortion_N  \\\n",
       "43                        1                         0           1   \n",
       "44                        1                         0           1   \n",
       "47                        1                         0           1   \n",
       "48                        1                         0           1   \n",
       "50                        1                         0           1   \n",
       "\n",
       "    Emergency dept_yes/No_N  Emergency dept_yes/No_Y  \n",
       "43                        0                        1  \n",
       "44                        0                        1  \n",
       "47                        0                        1  \n",
       "48                        0                        1  \n",
       "50                        0                        1  \n",
       "\n",
       "[5 rows x 52 columns]"
      ]
     },
     "execution_count": 12,
     "metadata": {},
     "output_type": "execute_result"
    }
   ],
   "source": [
    "#create a new dataframe which contain dummy variable \n",
    "dummy=pd.get_dummies(data=insurance1,columns=['Age','Gender','Cultural_group', 'ethnicity','Admission_type','Mortality risk', 'Surg_Description','Abortion', 'Emergency dept_yes/No'])\n",
    "dummy.head()"
   ]
  },
  {
   "cell_type": "code",
   "execution_count": 25,
   "metadata": {},
   "outputs": [
    {
     "data": {
      "text/plain": [
       "Index(['Area_Service', 'Hospital County', 'Certificate_num', 'Hospital Name',\n",
       "       'zip_code_3_digits', 'Days_spend_hsptl', 'Home or self care,',\n",
       "       'ccs_diagnosis_code', 'ccs_diagnosis_description', 'ccs_procedure_code',\n",
       "       'ccs_procedure_description', 'apr_drg_description',\n",
       "       'apr_mdc_description', 'Code_illness', 'Description_illness',\n",
       "       'Payment_typology_1', 'payment_typology_2', 'Weight_baby', 'Tot_charg',\n",
       "       'Tot_cost', 'ratio_of_total_costs_to_total_charges', 'Result',\n",
       "       'Age_0 to 17', 'Age_18 to 29', 'Age_30 to 49', 'Age_50 to 69',\n",
       "       'Age_70 or Older', 'Gender_F', 'Gender_M', 'Gender_U',\n",
       "       'Cultural_group_Black/African American', 'Cultural_group_Other Race',\n",
       "       'Cultural_group_Unknown', 'Cultural_group_White',\n",
       "       'ethnicity_Not Span/Hispanic', 'ethnicity_Spanish/Hispanic',\n",
       "       'ethnicity_Unknown', 'Admission_type_Elective',\n",
       "       'Admission_type_Emergency', 'Admission_type_Newborn',\n",
       "       'Admission_type_Not Available', 'Admission_type_Trauma',\n",
       "       'Admission_type_Urgent', 'Mortality risk_Extreme',\n",
       "       'Mortality risk_Major', 'Mortality risk_Minor',\n",
       "       'Mortality risk_Moderate', 'Surg_Description_Medical',\n",
       "       'Surg_Description_Surgical', 'Abortion_N', 'Emergency dept_yes/No_N',\n",
       "       'Emergency dept_yes/No_Y'],\n",
       "      dtype='object')"
      ]
     },
     "execution_count": 25,
     "metadata": {},
     "output_type": "execute_result"
    }
   ],
   "source": [
    "dummy.columns"
   ]
  },
  {
   "cell_type": "code",
   "execution_count": 26,
   "metadata": {},
   "outputs": [
    {
     "data": {
      "text/plain": [
       "array(['1', '2', '3', '4', '5', '14', '12', '9', '8', '10', '6', '7',\n",
       "       '22', '11', '16', '25', '13', '17', '28', '18', '19', '15', '23',\n",
       "       '20', '24', '27', '21', '30', '29', '39', '35', '37', '26', '55',\n",
       "       '110', '69', '47', '38', '42', '46', '40', '43', '120 +', '65',\n",
       "       '41', '31', '50', '59', '44', '36', '70', '115', '34', '49', '51',\n",
       "       '32', '68', '67', '85', '33', '95', '78', '91', '88', '48', '52',\n",
       "       '45', '63', '87', '58', '56', '57', '74', '64', '53', '54', '62',\n",
       "       '80', '97', '72', '118', '81', '90', '86', '106', '112', '105',\n",
       "       '114', '66', '89', '83', '75', '84', '82', '93', '79', '116', '71',\n",
       "       '60', '73', '61', '94', '92', '76', '96', '77', '104', '100',\n",
       "       '103', '102', '117', '108', '99', '107', '98', '101', '111', '113',\n",
       "       '119', '109', 3, 1, 2, 18, 4, 5, 20, 6, 11, 19, 7, 12, 14, 10, 9,\n",
       "       8, 13, 17, 16, 25, 15, 21, 31, 32, 26, 84, 71, 23, 34, 27, 28, 30,\n",
       "       22, 36, 24, 44, 29, 43, 33, 74, 56, 40, 47, 37, 38, 54, 48, 35, 61,\n",
       "       46, 53, 52, 39, 55, 41, 77, 58, 42, 73, 90, 99, 91, 66, 86, 69, 50,\n",
       "       70, 65, 59, 72, 63, 76, 60, 75, 45, 51, 79, 68, 62, 49, 57, 64, 81,\n",
       "       97, 87], dtype=object)"
      ]
     },
     "execution_count": 26,
     "metadata": {},
     "output_type": "execute_result"
    }
   ],
   "source": [
    "dummy.Days_spend_hsptl.unique()"
   ]
  },
  {
   "cell_type": "code",
   "execution_count": 13,
   "metadata": {},
   "outputs": [],
   "source": [
    "#since we have 120 + and the mean of rhe day spend is 5 so 120+5=125\n",
    "dummy.loc[dummy['Days_spend_hsptl']=='120 +','Days_spend_hsptl']=125"
   ]
  },
  {
   "cell_type": "code",
   "execution_count": 14,
   "metadata": {},
   "outputs": [],
   "source": [
    "dummy['Days_spend_hsptl']=dummy['Days_spend_hsptl'].astype(int)\n"
   ]
  },
  {
   "cell_type": "code",
   "execution_count": 18,
   "metadata": {},
   "outputs": [
    {
     "data": {
      "text/plain": [
       "5.764297486698414"
      ]
     },
     "execution_count": 18,
     "metadata": {},
     "output_type": "execute_result"
    }
   ],
   "source": [
    "np.mean(dummy['Days_spend_hsptl'])"
   ]
  },
  {
   "cell_type": "code",
   "execution_count": 19,
   "metadata": {},
   "outputs": [
    {
     "data": {
      "text/html": [
       "<div>\n",
       "<style scoped>\n",
       "    .dataframe tbody tr th:only-of-type {\n",
       "        vertical-align: middle;\n",
       "    }\n",
       "\n",
       "    .dataframe tbody tr th {\n",
       "        vertical-align: top;\n",
       "    }\n",
       "\n",
       "    .dataframe thead th {\n",
       "        text-align: right;\n",
       "    }\n",
       "</style>\n",
       "<table border=\"1\" class=\"dataframe\">\n",
       "  <thead>\n",
       "    <tr style=\"text-align: right;\">\n",
       "      <th>Result</th>\n",
       "      <th>Fraudulent</th>\n",
       "      <th>Genuine</th>\n",
       "    </tr>\n",
       "    <tr>\n",
       "      <th>Area_Service</th>\n",
       "      <th></th>\n",
       "      <th></th>\n",
       "    </tr>\n",
       "  </thead>\n",
       "  <tbody>\n",
       "    <tr>\n",
       "      <td>Capital/Adirond</td>\n",
       "      <td>24.99</td>\n",
       "      <td>75.01</td>\n",
       "    </tr>\n",
       "    <tr>\n",
       "      <td>Central NY</td>\n",
       "      <td>25.12</td>\n",
       "      <td>74.88</td>\n",
       "    </tr>\n",
       "    <tr>\n",
       "      <td>Finger Lakes</td>\n",
       "      <td>24.87</td>\n",
       "      <td>75.13</td>\n",
       "    </tr>\n",
       "    <tr>\n",
       "      <td>Hudson Valley</td>\n",
       "      <td>24.98</td>\n",
       "      <td>75.02</td>\n",
       "    </tr>\n",
       "    <tr>\n",
       "      <td>New York City</td>\n",
       "      <td>25.02</td>\n",
       "      <td>74.98</td>\n",
       "    </tr>\n",
       "    <tr>\n",
       "      <td>Southern Tier</td>\n",
       "      <td>25.47</td>\n",
       "      <td>74.53</td>\n",
       "    </tr>\n",
       "    <tr>\n",
       "      <td>Western NY</td>\n",
       "      <td>24.92</td>\n",
       "      <td>75.08</td>\n",
       "    </tr>\n",
       "  </tbody>\n",
       "</table>\n",
       "</div>"
      ],
      "text/plain": [
       "Result           Fraudulent  Genuine\n",
       "Area_Service                        \n",
       "Capital/Adirond       24.99    75.01\n",
       "Central NY            25.12    74.88\n",
       "Finger Lakes          24.87    75.13\n",
       "Hudson Valley         24.98    75.02\n",
       "New York City         25.02    74.98\n",
       "Southern Tier         25.47    74.53\n",
       "Western NY            24.92    75.08"
      ]
     },
     "execution_count": 19,
     "metadata": {},
     "output_type": "execute_result"
    }
   ],
   "source": [
    "#checking the each area with Result variable (percentage value)\n",
    "ar=pd.crosstab(dummy.Area_Service,dummy.Result,normalize='index').round(4)*100\n",
    "ar"
   ]
  },
  {
   "cell_type": "code",
   "execution_count": 20,
   "metadata": {},
   "outputs": [
    {
     "data": {
      "text/plain": [
       "<matplotlib.legend.Legend at 0x1a19cacf10>"
      ]
     },
     "execution_count": 20,
     "metadata": {},
     "output_type": "execute_result"
    },
    {
     "data": {
      "text/plain": [
       "<Figure size 1080x576 with 0 Axes>"
      ]
     },
     "metadata": {},
     "output_type": "display_data"
    },
    {
     "data": {
      "image/png": "[encoded data removed]",
      "text/plain": [
       "<Figure size 432x288 with 1 Axes>"
      ]
     },
     "metadata": {
      "needs_background": "light"
     },
     "output_type": "display_data"
    }
   ],
   "source": [
    "#graph for area of service\n",
    "plt.figure(figsize=(15,8))\n",
    "ar.plot.bar()\n",
    "plt.ylabel('percentage')\n",
    "plt.legend(loc='center left', bbox_to_anchor=(1, 0.5))\n"
   ]
  },
  {
   "cell_type": "code",
   "execution_count": 21,
   "metadata": {},
   "outputs": [
    {
     "data": {
      "text/html": [
       "<div>\n",
       "<style scoped>\n",
       "    .dataframe tbody tr th:only-of-type {\n",
       "        vertical-align: middle;\n",
       "    }\n",
       "\n",
       "    .dataframe tbody tr th {\n",
       "        vertical-align: top;\n",
       "    }\n",
       "\n",
       "    .dataframe thead th {\n",
       "        text-align: right;\n",
       "    }\n",
       "</style>\n",
       "<table border=\"1\" class=\"dataframe\">\n",
       "  <thead>\n",
       "    <tr style=\"text-align: right;\">\n",
       "      <th></th>\n",
       "      <th>Result</th>\n",
       "      <th>Fraudulent</th>\n",
       "      <th>Genuine</th>\n",
       "    </tr>\n",
       "    <tr>\n",
       "      <th>Area_Service</th>\n",
       "      <th>Hospital County</th>\n",
       "      <th></th>\n",
       "      <th></th>\n",
       "    </tr>\n",
       "  </thead>\n",
       "  <tbody>\n",
       "    <tr>\n",
       "      <td rowspan=\"14\" valign=\"top\">Capital/Adirond</td>\n",
       "      <td>Albany</td>\n",
       "      <td>24.95</td>\n",
       "      <td>75.05</td>\n",
       "    </tr>\n",
       "    <tr>\n",
       "      <td>Clinton</td>\n",
       "      <td>24.85</td>\n",
       "      <td>75.15</td>\n",
       "    </tr>\n",
       "    <tr>\n",
       "      <td>Columbia</td>\n",
       "      <td>25.85</td>\n",
       "      <td>74.15</td>\n",
       "    </tr>\n",
       "    <tr>\n",
       "      <td>Delaware</td>\n",
       "      <td>25.43</td>\n",
       "      <td>74.57</td>\n",
       "    </tr>\n",
       "    <tr>\n",
       "      <td>Essex</td>\n",
       "      <td>28.03</td>\n",
       "      <td>71.97</td>\n",
       "    </tr>\n",
       "    <tr>\n",
       "      <td>Franklin</td>\n",
       "      <td>27.08</td>\n",
       "      <td>72.92</td>\n",
       "    </tr>\n",
       "    <tr>\n",
       "      <td>Fulton</td>\n",
       "      <td>24.44</td>\n",
       "      <td>75.56</td>\n",
       "    </tr>\n",
       "    <tr>\n",
       "      <td>Montgomery</td>\n",
       "      <td>25.22</td>\n",
       "      <td>74.78</td>\n",
       "    </tr>\n",
       "    <tr>\n",
       "      <td>Otsego</td>\n",
       "      <td>25.13</td>\n",
       "      <td>74.87</td>\n",
       "    </tr>\n",
       "    <tr>\n",
       "      <td>Rensselaer</td>\n",
       "      <td>24.21</td>\n",
       "      <td>75.79</td>\n",
       "    </tr>\n",
       "    <tr>\n",
       "      <td>Saratoga</td>\n",
       "      <td>25.27</td>\n",
       "      <td>74.73</td>\n",
       "    </tr>\n",
       "    <tr>\n",
       "      <td>Schenectady</td>\n",
       "      <td>25.03</td>\n",
       "      <td>74.97</td>\n",
       "    </tr>\n",
       "    <tr>\n",
       "      <td>Schoharie</td>\n",
       "      <td>24.10</td>\n",
       "      <td>75.90</td>\n",
       "    </tr>\n",
       "    <tr>\n",
       "      <td>Warren</td>\n",
       "      <td>25.35</td>\n",
       "      <td>74.65</td>\n",
       "    </tr>\n",
       "    <tr>\n",
       "      <td rowspan=\"11\" valign=\"top\">Central NY</td>\n",
       "      <td>Cayuga</td>\n",
       "      <td>24.65</td>\n",
       "      <td>75.35</td>\n",
       "    </tr>\n",
       "    <tr>\n",
       "      <td>Cortland</td>\n",
       "      <td>23.54</td>\n",
       "      <td>76.46</td>\n",
       "    </tr>\n",
       "    <tr>\n",
       "      <td>Herkimer</td>\n",
       "      <td>25.69</td>\n",
       "      <td>74.31</td>\n",
       "    </tr>\n",
       "    <tr>\n",
       "      <td>Jefferson</td>\n",
       "      <td>25.01</td>\n",
       "      <td>74.99</td>\n",
       "    </tr>\n",
       "    <tr>\n",
       "      <td>Lewis</td>\n",
       "      <td>24.84</td>\n",
       "      <td>75.16</td>\n",
       "    </tr>\n",
       "    <tr>\n",
       "      <td>Madison</td>\n",
       "      <td>25.71</td>\n",
       "      <td>74.29</td>\n",
       "    </tr>\n",
       "    <tr>\n",
       "      <td>Oneida</td>\n",
       "      <td>24.35</td>\n",
       "      <td>75.65</td>\n",
       "    </tr>\n",
       "    <tr>\n",
       "      <td>Onondaga</td>\n",
       "      <td>25.35</td>\n",
       "      <td>74.65</td>\n",
       "    </tr>\n",
       "    <tr>\n",
       "      <td>Oswego</td>\n",
       "      <td>25.38</td>\n",
       "      <td>74.62</td>\n",
       "    </tr>\n",
       "    <tr>\n",
       "      <td>St Lawrence</td>\n",
       "      <td>24.79</td>\n",
       "      <td>75.21</td>\n",
       "    </tr>\n",
       "    <tr>\n",
       "      <td>Tompkins</td>\n",
       "      <td>25.73</td>\n",
       "      <td>74.27</td>\n",
       "    </tr>\n",
       "    <tr>\n",
       "      <td rowspan=\"8\" valign=\"top\">Finger Lakes</td>\n",
       "      <td>Chemung</td>\n",
       "      <td>25.98</td>\n",
       "      <td>74.02</td>\n",
       "    </tr>\n",
       "    <tr>\n",
       "      <td>Livingston</td>\n",
       "      <td>28.07</td>\n",
       "      <td>71.93</td>\n",
       "    </tr>\n",
       "    <tr>\n",
       "      <td>Monroe</td>\n",
       "      <td>24.60</td>\n",
       "      <td>75.40</td>\n",
       "    </tr>\n",
       "    <tr>\n",
       "      <td>Ontario</td>\n",
       "      <td>25.24</td>\n",
       "      <td>74.76</td>\n",
       "    </tr>\n",
       "    <tr>\n",
       "      <td>Schuyler</td>\n",
       "      <td>23.17</td>\n",
       "      <td>76.83</td>\n",
       "    </tr>\n",
       "    <tr>\n",
       "      <td>Steuben</td>\n",
       "      <td>25.99</td>\n",
       "      <td>74.01</td>\n",
       "    </tr>\n",
       "    <tr>\n",
       "      <td>Wayne</td>\n",
       "      <td>25.08</td>\n",
       "      <td>74.92</td>\n",
       "    </tr>\n",
       "    <tr>\n",
       "      <td>Yates</td>\n",
       "      <td>27.62</td>\n",
       "      <td>72.38</td>\n",
       "    </tr>\n",
       "    <tr>\n",
       "      <td rowspan=\"7\" valign=\"top\">Hudson Valley</td>\n",
       "      <td>Dutchess</td>\n",
       "      <td>25.15</td>\n",
       "      <td>74.85</td>\n",
       "    </tr>\n",
       "    <tr>\n",
       "      <td>Orange</td>\n",
       "      <td>24.79</td>\n",
       "      <td>75.21</td>\n",
       "    </tr>\n",
       "    <tr>\n",
       "      <td>Putnam</td>\n",
       "      <td>24.61</td>\n",
       "      <td>75.39</td>\n",
       "    </tr>\n",
       "    <tr>\n",
       "      <td>Rockland</td>\n",
       "      <td>24.90</td>\n",
       "      <td>75.10</td>\n",
       "    </tr>\n",
       "    <tr>\n",
       "      <td>Sullivan</td>\n",
       "      <td>25.90</td>\n",
       "      <td>74.10</td>\n",
       "    </tr>\n",
       "    <tr>\n",
       "      <td>Ulster</td>\n",
       "      <td>25.19</td>\n",
       "      <td>74.81</td>\n",
       "    </tr>\n",
       "    <tr>\n",
       "      <td>Westchester</td>\n",
       "      <td>25.01</td>\n",
       "      <td>74.99</td>\n",
       "    </tr>\n",
       "    <tr>\n",
       "      <td>New York City</td>\n",
       "      <td>Bronx</td>\n",
       "      <td>25.02</td>\n",
       "      <td>74.98</td>\n",
       "    </tr>\n",
       "    <tr>\n",
       "      <td rowspan=\"2\" valign=\"top\">Southern Tier</td>\n",
       "      <td>Broome</td>\n",
       "      <td>25.42</td>\n",
       "      <td>74.58</td>\n",
       "    </tr>\n",
       "    <tr>\n",
       "      <td>Chenango</td>\n",
       "      <td>26.19</td>\n",
       "      <td>73.81</td>\n",
       "    </tr>\n",
       "    <tr>\n",
       "      <td rowspan=\"8\" valign=\"top\">Western NY</td>\n",
       "      <td>Allegany</td>\n",
       "      <td>24.04</td>\n",
       "      <td>75.96</td>\n",
       "    </tr>\n",
       "    <tr>\n",
       "      <td>Cattaraugus</td>\n",
       "      <td>25.06</td>\n",
       "      <td>74.94</td>\n",
       "    </tr>\n",
       "    <tr>\n",
       "      <td>Chautauqua</td>\n",
       "      <td>24.85</td>\n",
       "      <td>75.15</td>\n",
       "    </tr>\n",
       "    <tr>\n",
       "      <td>Erie</td>\n",
       "      <td>25.01</td>\n",
       "      <td>74.99</td>\n",
       "    </tr>\n",
       "    <tr>\n",
       "      <td>Genesee</td>\n",
       "      <td>24.37</td>\n",
       "      <td>75.63</td>\n",
       "    </tr>\n",
       "    <tr>\n",
       "      <td>Niagara</td>\n",
       "      <td>24.27</td>\n",
       "      <td>75.73</td>\n",
       "    </tr>\n",
       "    <tr>\n",
       "      <td>Orleans</td>\n",
       "      <td>26.00</td>\n",
       "      <td>74.00</td>\n",
       "    </tr>\n",
       "    <tr>\n",
       "      <td>Wyoming</td>\n",
       "      <td>27.17</td>\n",
       "      <td>72.83</td>\n",
       "    </tr>\n",
       "  </tbody>\n",
       "</table>\n",
       "</div>"
      ],
      "text/plain": [
       "Result                           Fraudulent  Genuine\n",
       "Area_Service    Hospital County                     \n",
       "Capital/Adirond Albany                24.95    75.05\n",
       "                Clinton               24.85    75.15\n",
       "                Columbia              25.85    74.15\n",
       "                Delaware              25.43    74.57\n",
       "                Essex                 28.03    71.97\n",
       "                Franklin              27.08    72.92\n",
       "                Fulton                24.44    75.56\n",
       "                Montgomery            25.22    74.78\n",
       "                Otsego                25.13    74.87\n",
       "                Rensselaer            24.21    75.79\n",
       "                Saratoga              25.27    74.73\n",
       "                Schenectady           25.03    74.97\n",
       "                Schoharie             24.10    75.90\n",
       "                Warren                25.35    74.65\n",
       "Central NY      Cayuga                24.65    75.35\n",
       "                Cortland              23.54    76.46\n",
       "                Herkimer              25.69    74.31\n",
       "                Jefferson             25.01    74.99\n",
       "                Lewis                 24.84    75.16\n",
       "                Madison               25.71    74.29\n",
       "                Oneida                24.35    75.65\n",
       "                Onondaga              25.35    74.65\n",
       "                Oswego                25.38    74.62\n",
       "                St Lawrence           24.79    75.21\n",
       "                Tompkins              25.73    74.27\n",
       "Finger Lakes    Chemung               25.98    74.02\n",
       "                Livingston            28.07    71.93\n",
       "                Monroe                24.60    75.40\n",
       "                Ontario               25.24    74.76\n",
       "                Schuyler              23.17    76.83\n",
       "                Steuben               25.99    74.01\n",
       "                Wayne                 25.08    74.92\n",
       "                Yates                 27.62    72.38\n",
       "Hudson Valley   Dutchess              25.15    74.85\n",
       "                Orange                24.79    75.21\n",
       "                Putnam                24.61    75.39\n",
       "                Rockland              24.90    75.10\n",
       "                Sullivan              25.90    74.10\n",
       "                Ulster                25.19    74.81\n",
       "                Westchester           25.01    74.99\n",
       "New York City   Bronx                 25.02    74.98\n",
       "Southern Tier   Broome                25.42    74.58\n",
       "                Chenango              26.19    73.81\n",
       "Western NY      Allegany              24.04    75.96\n",
       "                Cattaraugus           25.06    74.94\n",
       "                Chautauqua            24.85    75.15\n",
       "                Erie                  25.01    74.99\n",
       "                Genesee               24.37    75.63\n",
       "                Niagara               24.27    75.73\n",
       "                Orleans               26.00    74.00\n",
       "                Wyoming               27.17    72.83"
      ]
     },
     "execution_count": 21,
     "metadata": {},
     "output_type": "execute_result"
    }
   ],
   "source": [
    "ahr=pd.crosstab(index=[dummy['Area_Service'],dummy['Hospital County']],columns=dummy.Result,normalize='index').round(4)*100\n",
    "ahr"
   ]
  },
  {
   "cell_type": "code",
   "execution_count": 22,
   "metadata": {},
   "outputs": [
    {
     "data": {
      "text/plain": [
       "<matplotlib.legend.Legend at 0x1a1a1340d0>"
      ]
     },
     "execution_count": 22,
     "metadata": {},
     "output_type": "execute_result"
    },
    {
     "data": {
      "text/plain": [
       "<Figure size 3960x1800 with 0 Axes>"
      ]
     },
     "metadata": {},
     "output_type": "display_data"
    },
    {
     "data": {
      "image/png": "[encoded data removed]",
      "text/plain": [
       "<Figure size 432x288 with 1 Axes>"
      ]
     },
     "metadata": {
      "needs_background": "light"
     },
     "output_type": "display_data"
    }
   ],
   "source": [
    "#graph for area of service\n",
    "plt.figure(figsize=(55,25))\n",
    "ahr.plot.bar()\n",
    "plt.ylabel('percentage')\n",
    "plt.legend(loc='upper left', bbox_to_anchor=(1, 0.5))\n"
   ]
  },
  {
   "cell_type": "code",
   "execution_count": 15,
   "metadata": {},
   "outputs": [
    {
     "name": "stderr",
     "output_type": "stream",
     "text": [
      "/opt/anaconda3/lib/python3.7/site-packages/pandas/core/frame.py:4223: SettingWithCopyWarning: \n",
      "A value is trying to be set on a copy of a slice from a DataFrame\n",
      "\n",
      "See the caveats in the documentation: http://pandas.pydata.org/pandas-docs/stable/user_guide/indexing.html#returning-a-view-versus-a-copy\n",
      "  return super().rename(**kwargs)\n"
     ]
    }
   ],
   "source": [
    "insurance1.rename(columns={\"Mortality risk\":\"Mortality_risk\"},inplace=True)"
   ]
  },
  {
   "cell_type": "code",
   "execution_count": 24,
   "metadata": {},
   "outputs": [
    {
     "data": {
      "text/html": [
       "<div>\n",
       "<style scoped>\n",
       "    .dataframe tbody tr th:only-of-type {\n",
       "        vertical-align: middle;\n",
       "    }\n",
       "\n",
       "    .dataframe tbody tr th {\n",
       "        vertical-align: top;\n",
       "    }\n",
       "\n",
       "    .dataframe thead th {\n",
       "        text-align: right;\n",
       "    }\n",
       "</style>\n",
       "<table border=\"1\" class=\"dataframe\">\n",
       "  <thead>\n",
       "    <tr style=\"text-align: right;\">\n",
       "      <th>Result</th>\n",
       "      <th>Fraudulent</th>\n",
       "      <th>Genuine</th>\n",
       "    </tr>\n",
       "    <tr>\n",
       "      <th>Mortality_risk</th>\n",
       "      <th></th>\n",
       "      <th></th>\n",
       "    </tr>\n",
       "  </thead>\n",
       "  <tbody>\n",
       "    <tr>\n",
       "      <td>Extreme</td>\n",
       "      <td>0.010009</td>\n",
       "      <td>0.029991</td>\n",
       "    </tr>\n",
       "    <tr>\n",
       "      <td>Major</td>\n",
       "      <td>0.009982</td>\n",
       "      <td>0.030018</td>\n",
       "    </tr>\n",
       "    <tr>\n",
       "      <td>Minor</td>\n",
       "      <td>0.010014</td>\n",
       "      <td>0.029986</td>\n",
       "    </tr>\n",
       "    <tr>\n",
       "      <td>Moderate</td>\n",
       "      <td>0.009967</td>\n",
       "      <td>0.030033</td>\n",
       "    </tr>\n",
       "  </tbody>\n",
       "</table>\n",
       "</div>"
      ],
      "text/plain": [
       "Result          Fraudulent   Genuine\n",
       "Mortality_risk                      \n",
       "Extreme           0.010009  0.029991\n",
       "Major             0.009982  0.030018\n",
       "Minor             0.010014  0.029986\n",
       "Moderate          0.009967  0.030033"
      ]
     },
     "execution_count": 24,
     "metadata": {},
     "output_type": "execute_result"
    }
   ],
   "source": [
    "\n",
    "mrr=pd.crosstab(insurance1.Mortality_risk,insurance1.Result,normalize='index')*round(4)/100\n",
    "mrr"
   ]
  },
  {
   "cell_type": "code",
   "execution_count": 25,
   "metadata": {},
   "outputs": [
    {
     "data": {
      "text/plain": [
       "<matplotlib.legend.Legend at 0x1a19f90c90>"
      ]
     },
     "execution_count": 25,
     "metadata": {},
     "output_type": "execute_result"
    },
    {
     "data": {
      "text/plain": [
       "<Figure size 2520x576 with 0 Axes>"
      ]
     },
     "metadata": {},
     "output_type": "display_data"
    },
    {
     "data": {
      "image/png": "[encoded data removed]",
      "text/plain": [
       "<Figure size 432x288 with 1 Axes>"
      ]
     },
     "metadata": {
      "needs_background": "light"
     },
     "output_type": "display_data"
    }
   ],
   "source": [
    "plt.figure(figsize=(35,8))\n",
    "mrr.plot.bar()\n",
    "plt.ylabel(\"percentage\")\n",
    "plt.legend(loc=\"upper left\",bbox_to_anchor=(1,0.8))"
   ]
  },
  {
   "cell_type": "code",
   "execution_count": 26,
   "metadata": {},
   "outputs": [
    {
     "data": {
      "text/html": [
       "<div>\n",
       "<style scoped>\n",
       "    .dataframe tbody tr th:only-of-type {\n",
       "        vertical-align: middle;\n",
       "    }\n",
       "\n",
       "    .dataframe tbody tr th {\n",
       "        vertical-align: top;\n",
       "    }\n",
       "\n",
       "    .dataframe thead th {\n",
       "        text-align: right;\n",
       "    }\n",
       "</style>\n",
       "<table border=\"1\" class=\"dataframe\">\n",
       "  <thead>\n",
       "    <tr style=\"text-align: right;\">\n",
       "      <th>Result</th>\n",
       "      <th>Fraudulent</th>\n",
       "      <th>Genuine</th>\n",
       "    </tr>\n",
       "    <tr>\n",
       "      <th>Mortality_risk</th>\n",
       "      <th></th>\n",
       "      <th></th>\n",
       "    </tr>\n",
       "  </thead>\n",
       "  <tbody>\n",
       "    <tr>\n",
       "      <td>Extreme</td>\n",
       "      <td>0.010009</td>\n",
       "      <td>0.029991</td>\n",
       "    </tr>\n",
       "    <tr>\n",
       "      <td>Major</td>\n",
       "      <td>0.009982</td>\n",
       "      <td>0.030018</td>\n",
       "    </tr>\n",
       "    <tr>\n",
       "      <td>Minor</td>\n",
       "      <td>0.010014</td>\n",
       "      <td>0.029986</td>\n",
       "    </tr>\n",
       "    <tr>\n",
       "      <td>Moderate</td>\n",
       "      <td>0.009967</td>\n",
       "      <td>0.030033</td>\n",
       "    </tr>\n",
       "  </tbody>\n",
       "</table>\n",
       "</div>"
      ],
      "text/plain": [
       "Result          Fraudulent   Genuine\n",
       "Mortality_risk                      \n",
       "Extreme           0.010009  0.029991\n",
       "Major             0.009982  0.030018\n",
       "Minor             0.010014  0.029986\n",
       "Moderate          0.009967  0.030033"
      ]
     },
     "execution_count": 26,
     "metadata": {},
     "output_type": "execute_result"
    }
   ],
   "source": [
    "sdr=pd.crosstab(insurance1.Surg_Description,insurance1.Result,normalize='index')*round(4)/100\n",
    "mrr"
   ]
  },
  {
   "cell_type": "code",
   "execution_count": 27,
   "metadata": {},
   "outputs": [
    {
     "data": {
      "text/plain": [
       "<matplotlib.legend.Legend at 0x105021110>"
      ]
     },
     "execution_count": 27,
     "metadata": {},
     "output_type": "execute_result"
    },
    {
     "data": {
      "text/plain": [
       "<Figure size 2520x576 with 0 Axes>"
      ]
     },
     "metadata": {},
     "output_type": "display_data"
    },
    {
     "data": {
      "image/png": "[encoded data removed]",
      "text/plain": [
       "<Figure size 432x288 with 1 Axes>"
      ]
     },
     "metadata": {
      "needs_background": "light"
     },
     "output_type": "display_data"
    }
   ],
   "source": [
    "plt.figure(figsize=(35,8))\n",
    "sdr.plot.bar()\n",
    "plt.ylabel(\"percentage\")\n",
    "plt.legend(loc=\"upper left\",bbox_to_anchor=(1,0.8))"
   ]
  },
  {
   "cell_type": "code",
   "execution_count": 16,
   "metadata": {},
   "outputs": [],
   "source": [
    "#lets create a range of amount for hosipital cost \n",
    "#its a new coloumn we have generated based on given coloumn\n",
    "bins = [0, 1000, 10000, 100000, 1000000,10000000]\n",
    "names = ['T', '10T', '100T', '1M', '10M','100M']\n"
   ]
  },
  {
   "cell_type": "code",
   "execution_count": 17,
   "metadata": {},
   "outputs": [
    {
     "data": {
      "text/plain": [
       "43          10T\n",
       "44          10T\n",
       "47          10T\n",
       "48          10T\n",
       "50          10T\n",
       "           ... \n",
       "1048570    100T\n",
       "1048571    100T\n",
       "1048572      1M\n",
       "1048573    100T\n",
       "1048574    100T\n",
       "Name: CostRange, Length: 691083, dtype: object"
      ]
     },
     "execution_count": 17,
     "metadata": {},
     "output_type": "execute_result"
    }
   ],
   "source": [
    "d=dict(enumerate(names,1))   #enumerate gives index to values\n",
    "dummy['CostRange']=np.vectorize(d.get)(np.digitize(dummy[\"Tot_charg\"],bins))\n",
    "dummy[\"CostRange\"]"
   ]
  },
  {
   "cell_type": "code",
   "execution_count": 31,
   "metadata": {},
   "outputs": [
    {
     "data": {
      "text/html": [
       "<div>\n",
       "<style scoped>\n",
       "    .dataframe tbody tr th:only-of-type {\n",
       "        vertical-align: middle;\n",
       "    }\n",
       "\n",
       "    .dataframe tbody tr th {\n",
       "        vertical-align: top;\n",
       "    }\n",
       "\n",
       "    .dataframe thead th {\n",
       "        text-align: right;\n",
       "    }\n",
       "</style>\n",
       "<table border=\"1\" class=\"dataframe\">\n",
       "  <thead>\n",
       "    <tr style=\"text-align: right;\">\n",
       "      <th>Result</th>\n",
       "      <th>Fraudulent</th>\n",
       "      <th>Genuine</th>\n",
       "    </tr>\n",
       "    <tr>\n",
       "      <th>CostRange</th>\n",
       "      <th></th>\n",
       "      <th></th>\n",
       "    </tr>\n",
       "  </thead>\n",
       "  <tbody>\n",
       "    <tr>\n",
       "      <td>100T</td>\n",
       "      <td>113803</td>\n",
       "      <td>340876</td>\n",
       "    </tr>\n",
       "    <tr>\n",
       "      <td>10M</td>\n",
       "      <td>66</td>\n",
       "      <td>212</td>\n",
       "    </tr>\n",
       "    <tr>\n",
       "      <td>10T</td>\n",
       "      <td>51008</td>\n",
       "      <td>154152</td>\n",
       "    </tr>\n",
       "    <tr>\n",
       "      <td>1M</td>\n",
       "      <td>7576</td>\n",
       "      <td>22302</td>\n",
       "    </tr>\n",
       "    <tr>\n",
       "      <td>T</td>\n",
       "      <td>262</td>\n",
       "      <td>826</td>\n",
       "    </tr>\n",
       "  </tbody>\n",
       "</table>\n",
       "</div>"
      ],
      "text/plain": [
       "Result     Fraudulent  Genuine\n",
       "CostRange                     \n",
       "100T           113803   340876\n",
       "10M                66      212\n",
       "10T             51008   154152\n",
       "1M               7576    22302\n",
       "T                 262      826"
      ]
     },
     "execution_count": 31,
     "metadata": {},
     "output_type": "execute_result"
    }
   ],
   "source": [
    "cr=pd.crosstab(dummy.CostRange,dummy.Result)\n",
    "cr"
   ]
  },
  {
   "cell_type": "code",
   "execution_count": 32,
   "metadata": {},
   "outputs": [
    {
     "data": {
      "text/plain": [
       "<matplotlib.legend.Legend at 0x1a1a3b0610>"
      ]
     },
     "execution_count": 32,
     "metadata": {},
     "output_type": "execute_result"
    },
    {
     "data": {
      "text/plain": [
       "<Figure size 2520x576 with 0 Axes>"
      ]
     },
     "metadata": {},
     "output_type": "display_data"
    },
    {
     "data": {
      "image/png": "[encoded data removed]",
      "text/plain": [
       "<Figure size 432x288 with 1 Axes>"
      ]
     },
     "metadata": {
      "needs_background": "light"
     },
     "output_type": "display_data"
    }
   ],
   "source": [
    "plt.figure(figsize=(35,8))\n",
    "cr.plot.bar()\n",
    "plt.ylabel('count')\n",
    "plt.legend(loc=\"upper left\",bbox_to_anchor=(1,0.5))"
   ]
  },
  {
   "cell_type": "code",
   "execution_count": 33,
   "metadata": {},
   "outputs": [
    {
     "data": {
      "text/html": [
       "<div>\n",
       "<style scoped>\n",
       "    .dataframe tbody tr th:only-of-type {\n",
       "        vertical-align: middle;\n",
       "    }\n",
       "\n",
       "    .dataframe tbody tr th {\n",
       "        vertical-align: top;\n",
       "    }\n",
       "\n",
       "    .dataframe thead th {\n",
       "        text-align: right;\n",
       "    }\n",
       "</style>\n",
       "<table border=\"1\" class=\"dataframe\">\n",
       "  <thead>\n",
       "    <tr style=\"text-align: right;\">\n",
       "      <th>Result</th>\n",
       "      <th>Fraudulent</th>\n",
       "      <th>Genuine</th>\n",
       "    </tr>\n",
       "    <tr>\n",
       "      <th>Payment_typology_1</th>\n",
       "      <th></th>\n",
       "      <th></th>\n",
       "    </tr>\n",
       "  </thead>\n",
       "  <tbody>\n",
       "    <tr>\n",
       "      <td>Blue Cross/Blue Shield</td>\n",
       "      <td>0.010029</td>\n",
       "      <td>0.029971</td>\n",
       "    </tr>\n",
       "    <tr>\n",
       "      <td>Department of Corrections</td>\n",
       "      <td>0.009730</td>\n",
       "      <td>0.030270</td>\n",
       "    </tr>\n",
       "    <tr>\n",
       "      <td>Federal/State/Local/VA</td>\n",
       "      <td>0.010272</td>\n",
       "      <td>0.029728</td>\n",
       "    </tr>\n",
       "    <tr>\n",
       "      <td>Managed Care, Unspecified</td>\n",
       "      <td>0.010065</td>\n",
       "      <td>0.029935</td>\n",
       "    </tr>\n",
       "    <tr>\n",
       "      <td>Medicaid</td>\n",
       "      <td>0.010021</td>\n",
       "      <td>0.029979</td>\n",
       "    </tr>\n",
       "    <tr>\n",
       "      <td>Medicare</td>\n",
       "      <td>0.009983</td>\n",
       "      <td>0.030017</td>\n",
       "    </tr>\n",
       "    <tr>\n",
       "      <td>Miscellaneous/Other</td>\n",
       "      <td>0.010122</td>\n",
       "      <td>0.029878</td>\n",
       "    </tr>\n",
       "    <tr>\n",
       "      <td>Private Health Insurance</td>\n",
       "      <td>0.009957</td>\n",
       "      <td>0.030043</td>\n",
       "    </tr>\n",
       "    <tr>\n",
       "      <td>Self-Pay</td>\n",
       "      <td>0.009867</td>\n",
       "      <td>0.030133</td>\n",
       "    </tr>\n",
       "    <tr>\n",
       "      <td>Unknown</td>\n",
       "      <td>0.004444</td>\n",
       "      <td>0.035556</td>\n",
       "    </tr>\n",
       "  </tbody>\n",
       "</table>\n",
       "</div>"
      ],
      "text/plain": [
       "Result                     Fraudulent   Genuine\n",
       "Payment_typology_1                             \n",
       "Blue Cross/Blue Shield       0.010029  0.029971\n",
       "Department of Corrections    0.009730  0.030270\n",
       "Federal/State/Local/VA       0.010272  0.029728\n",
       "Managed Care, Unspecified    0.010065  0.029935\n",
       "Medicaid                     0.010021  0.029979\n",
       "Medicare                     0.009983  0.030017\n",
       "Miscellaneous/Other          0.010122  0.029878\n",
       "Private Health Insurance     0.009957  0.030043\n",
       "Self-Pay                     0.009867  0.030133\n",
       "Unknown                      0.004444  0.035556"
      ]
     },
     "execution_count": 33,
     "metadata": {},
     "output_type": "execute_result"
    }
   ],
   "source": [
    "pr=pd.crosstab(dummy.Payment_typology_1 ,dummy.Result,normalize='index')*round(4)/100\n",
    "pr"
   ]
  },
  {
   "cell_type": "code",
   "execution_count": 34,
   "metadata": {},
   "outputs": [
    {
     "data": {
      "text/plain": [
       "<matplotlib.legend.Legend at 0x1a21e9e590>"
      ]
     },
     "execution_count": 34,
     "metadata": {},
     "output_type": "execute_result"
    },
    {
     "data": {
      "text/plain": [
       "<Figure size 2520x576 with 0 Axes>"
      ]
     },
     "metadata": {},
     "output_type": "display_data"
    },
    {
     "data": {
      "image/png": "[encoded data removed]",
      "text/plain": [
       "<Figure size 432x288 with 1 Axes>"
      ]
     },
     "metadata": {
      "needs_background": "light"
     },
     "output_type": "display_data"
    }
   ],
   "source": [
    "plt.figure(figsize=(35,8))\n",
    "pr.plot.bar()\n",
    "plt.ylabel(\"percentage\")\n",
    "plt.legend(loc='upper left',bbox_to_anchor=(1,0.8))\n"
   ]
  },
  {
   "cell_type": "code",
   "execution_count": 35,
   "metadata": {},
   "outputs": [
    {
     "data": {
      "text/html": [
       "<div>\n",
       "<style scoped>\n",
       "    .dataframe tbody tr th:only-of-type {\n",
       "        vertical-align: middle;\n",
       "    }\n",
       "\n",
       "    .dataframe tbody tr th {\n",
       "        vertical-align: top;\n",
       "    }\n",
       "\n",
       "    .dataframe thead th {\n",
       "        text-align: right;\n",
       "    }\n",
       "</style>\n",
       "<table border=\"1\" class=\"dataframe\">\n",
       "  <thead>\n",
       "    <tr style=\"text-align: right;\">\n",
       "      <th></th>\n",
       "      <th>Result</th>\n",
       "      <th>Fraudulent</th>\n",
       "      <th>Genuine</th>\n",
       "    </tr>\n",
       "    <tr>\n",
       "      <th>CostRange</th>\n",
       "      <th>Age</th>\n",
       "      <th></th>\n",
       "      <th></th>\n",
       "    </tr>\n",
       "  </thead>\n",
       "  <tbody>\n",
       "    <tr>\n",
       "      <td rowspan=\"5\" valign=\"top\">100T</td>\n",
       "      <td>0 to 17</td>\n",
       "      <td>5924</td>\n",
       "      <td>17309</td>\n",
       "    </tr>\n",
       "    <tr>\n",
       "      <td>18 to 29</td>\n",
       "      <td>8002</td>\n",
       "      <td>23817</td>\n",
       "    </tr>\n",
       "    <tr>\n",
       "      <td>30 to 49</td>\n",
       "      <td>16911</td>\n",
       "      <td>51096</td>\n",
       "    </tr>\n",
       "    <tr>\n",
       "      <td>50 to 69</td>\n",
       "      <td>33403</td>\n",
       "      <td>100938</td>\n",
       "    </tr>\n",
       "    <tr>\n",
       "      <td>70 or Older</td>\n",
       "      <td>49563</td>\n",
       "      <td>147716</td>\n",
       "    </tr>\n",
       "    <tr>\n",
       "      <td rowspan=\"5\" valign=\"top\">10M</td>\n",
       "      <td>0 to 17</td>\n",
       "      <td>24</td>\n",
       "      <td>77</td>\n",
       "    </tr>\n",
       "    <tr>\n",
       "      <td>18 to 29</td>\n",
       "      <td>3</td>\n",
       "      <td>10</td>\n",
       "    </tr>\n",
       "    <tr>\n",
       "      <td>30 to 49</td>\n",
       "      <td>5</td>\n",
       "      <td>33</td>\n",
       "    </tr>\n",
       "    <tr>\n",
       "      <td>50 to 69</td>\n",
       "      <td>25</td>\n",
       "      <td>59</td>\n",
       "    </tr>\n",
       "    <tr>\n",
       "      <td>70 or Older</td>\n",
       "      <td>9</td>\n",
       "      <td>33</td>\n",
       "    </tr>\n",
       "    <tr>\n",
       "      <td rowspan=\"5\" valign=\"top\">10T</td>\n",
       "      <td>0 to 17</td>\n",
       "      <td>12648</td>\n",
       "      <td>37561</td>\n",
       "    </tr>\n",
       "    <tr>\n",
       "      <td>18 to 29</td>\n",
       "      <td>6917</td>\n",
       "      <td>20682</td>\n",
       "    </tr>\n",
       "    <tr>\n",
       "      <td>30 to 49</td>\n",
       "      <td>8809</td>\n",
       "      <td>27096</td>\n",
       "    </tr>\n",
       "    <tr>\n",
       "      <td>50 to 69</td>\n",
       "      <td>9184</td>\n",
       "      <td>28154</td>\n",
       "    </tr>\n",
       "    <tr>\n",
       "      <td>70 or Older</td>\n",
       "      <td>13450</td>\n",
       "      <td>40659</td>\n",
       "    </tr>\n",
       "    <tr>\n",
       "      <td rowspan=\"5\" valign=\"top\">1M</td>\n",
       "      <td>0 to 17</td>\n",
       "      <td>652</td>\n",
       "      <td>1994</td>\n",
       "    </tr>\n",
       "    <tr>\n",
       "      <td>18 to 29</td>\n",
       "      <td>307</td>\n",
       "      <td>959</td>\n",
       "    </tr>\n",
       "    <tr>\n",
       "      <td>30 to 49</td>\n",
       "      <td>879</td>\n",
       "      <td>2593</td>\n",
       "    </tr>\n",
       "    <tr>\n",
       "      <td>50 to 69</td>\n",
       "      <td>2777</td>\n",
       "      <td>8068</td>\n",
       "    </tr>\n",
       "    <tr>\n",
       "      <td>70 or Older</td>\n",
       "      <td>2961</td>\n",
       "      <td>8688</td>\n",
       "    </tr>\n",
       "    <tr>\n",
       "      <td rowspan=\"5\" valign=\"top\">T</td>\n",
       "      <td>0 to 17</td>\n",
       "      <td>187</td>\n",
       "      <td>596</td>\n",
       "    </tr>\n",
       "    <tr>\n",
       "      <td>18 to 29</td>\n",
       "      <td>13</td>\n",
       "      <td>39</td>\n",
       "    </tr>\n",
       "    <tr>\n",
       "      <td>30 to 49</td>\n",
       "      <td>17</td>\n",
       "      <td>43</td>\n",
       "    </tr>\n",
       "    <tr>\n",
       "      <td>50 to 69</td>\n",
       "      <td>19</td>\n",
       "      <td>64</td>\n",
       "    </tr>\n",
       "    <tr>\n",
       "      <td>70 or Older</td>\n",
       "      <td>26</td>\n",
       "      <td>84</td>\n",
       "    </tr>\n",
       "  </tbody>\n",
       "</table>\n",
       "</div>"
      ],
      "text/plain": [
       "Result                 Fraudulent  Genuine\n",
       "CostRange Age                             \n",
       "100T      0 to 17            5924    17309\n",
       "          18 to 29           8002    23817\n",
       "          30 to 49          16911    51096\n",
       "          50 to 69          33403   100938\n",
       "          70 or Older       49563   147716\n",
       "10M       0 to 17              24       77\n",
       "          18 to 29              3       10\n",
       "          30 to 49              5       33\n",
       "          50 to 69             25       59\n",
       "          70 or Older           9       33\n",
       "10T       0 to 17           12648    37561\n",
       "          18 to 29           6917    20682\n",
       "          30 to 49           8809    27096\n",
       "          50 to 69           9184    28154\n",
       "          70 or Older       13450    40659\n",
       "1M        0 to 17             652     1994\n",
       "          18 to 29            307      959\n",
       "          30 to 49            879     2593\n",
       "          50 to 69           2777     8068\n",
       "          70 or Older        2961     8688\n",
       "T         0 to 17             187      596\n",
       "          18 to 29             13       39\n",
       "          30 to 49             17       43\n",
       "          50 to 69             19       64\n",
       "          70 or Older          26       84"
      ]
     },
     "execution_count": 35,
     "metadata": {},
     "output_type": "execute_result"
    }
   ],
   "source": [
    "clar=pd.crosstab(index=[dummy['CostRange'],insurance1['Age']],columns=dummy['Result'])\n",
    "clar"
   ]
  },
  {
   "cell_type": "code",
   "execution_count": 36,
   "metadata": {},
   "outputs": [
    {
     "data": {
      "text/plain": [
       "<matplotlib.legend.Legend at 0x1a225f2e10>"
      ]
     },
     "execution_count": 36,
     "metadata": {},
     "output_type": "execute_result"
    },
    {
     "data": {
      "text/plain": [
       "<Figure size 2520x576 with 0 Axes>"
      ]
     },
     "metadata": {},
     "output_type": "display_data"
    },
    {
     "data": {
      "image/png": "[encoded data removed]",
      "text/plain": [
       "<Figure size 432x288 with 1 Axes>"
      ]
     },
     "metadata": {
      "needs_background": "light"
     },
     "output_type": "display_data"
    }
   ],
   "source": [
    "plt.figure(figsize=(35,8))\n",
    "clar.plot.bar()\n",
    "plt.ylabel('count')\n",
    "plt.legend(loc='upper left',bbox_to_anchor=(1,0.8))"
   ]
  },
  {
   "cell_type": "code",
   "execution_count": 18,
   "metadata": {},
   "outputs": [],
   "source": [
    "bins = [0, 10, 25, 50, 75,100]\n",
    "names = ['D0', 'D10', 'D25', 'D75', 'D100','G100']\n",
    "\n",
    "d = dict(enumerate(names, 1))\n",
    "dummy['Days_spend_range']=np.vectorize(d.get)(np.digitize(dummy['Days_spend_hsptl'], bins))\n"
   ]
  },
  {
   "cell_type": "code",
   "execution_count": 19,
   "metadata": {},
   "outputs": [
    {
     "data": {
      "text/html": [
       "<div>\n",
       "<style scoped>\n",
       "    .dataframe tbody tr th:only-of-type {\n",
       "        vertical-align: middle;\n",
       "    }\n",
       "\n",
       "    .dataframe tbody tr th {\n",
       "        vertical-align: top;\n",
       "    }\n",
       "\n",
       "    .dataframe thead th {\n",
       "        text-align: right;\n",
       "    }\n",
       "</style>\n",
       "<table border=\"1\" class=\"dataframe\">\n",
       "  <thead>\n",
       "    <tr style=\"text-align: right;\">\n",
       "      <th>Result</th>\n",
       "      <th>Fraudulent</th>\n",
       "      <th>Genuine</th>\n",
       "    </tr>\n",
       "    <tr>\n",
       "      <th>Days_spend_range</th>\n",
       "      <th></th>\n",
       "      <th></th>\n",
       "    </tr>\n",
       "  </thead>\n",
       "  <tbody>\n",
       "    <tr>\n",
       "      <td>D0</td>\n",
       "      <td>24.97</td>\n",
       "      <td>75.03</td>\n",
       "    </tr>\n",
       "    <tr>\n",
       "      <td>D10</td>\n",
       "      <td>25.07</td>\n",
       "      <td>74.93</td>\n",
       "    </tr>\n",
       "    <tr>\n",
       "      <td>D100</td>\n",
       "      <td>27.16</td>\n",
       "      <td>72.84</td>\n",
       "    </tr>\n",
       "    <tr>\n",
       "      <td>D25</td>\n",
       "      <td>24.97</td>\n",
       "      <td>75.03</td>\n",
       "    </tr>\n",
       "    <tr>\n",
       "      <td>D75</td>\n",
       "      <td>25.92</td>\n",
       "      <td>74.08</td>\n",
       "    </tr>\n",
       "    <tr>\n",
       "      <td>G100</td>\n",
       "      <td>26.60</td>\n",
       "      <td>73.40</td>\n",
       "    </tr>\n",
       "  </tbody>\n",
       "</table>\n",
       "</div>"
      ],
      "text/plain": [
       "Result            Fraudulent  Genuine\n",
       "Days_spend_range                     \n",
       "D0                     24.97    75.03\n",
       "D10                    25.07    74.93\n",
       "D100                   27.16    72.84\n",
       "D25                    24.97    75.03\n",
       "D75                    25.92    74.08\n",
       "G100                   26.60    73.40"
      ]
     },
     "execution_count": 19,
     "metadata": {},
     "output_type": "execute_result"
    }
   ],
   "source": [
    "dar=pd.crosstab(dummy['Days_spend_range'],dummy['Result'],normalize='index').round(4)*100\n",
    "dar"
   ]
  },
  {
   "cell_type": "code",
   "execution_count": 39,
   "metadata": {},
   "outputs": [
    {
     "data": {
      "text/plain": [
       "<matplotlib.legend.Legend at 0x1a22791650>"
      ]
     },
     "execution_count": 39,
     "metadata": {},
     "output_type": "execute_result"
    },
    {
     "data": {
      "text/plain": [
       "<Figure size 1080x576 with 0 Axes>"
      ]
     },
     "metadata": {},
     "output_type": "display_data"
    },
    {
     "data": {
      "image/png": "[encoded data removed]",
      "text/plain": [
       "<Figure size 432x288 with 1 Axes>"
      ]
     },
     "metadata": {
      "needs_background": "light"
     },
     "output_type": "display_data"
    }
   ],
   "source": [
    "plt.figure(figsize=(15,8))\n",
    "dar.plot.bar()\n",
    "plt.ylabel('percentage')\n",
    "plt.legend(loc='center left', bbox_to_anchor=(1, 0.5))"
   ]
  },
  {
   "cell_type": "code",
   "execution_count": 20,
   "metadata": {},
   "outputs": [],
   "source": [
    "dummy[\"Area_Service\"]=dummy[\"Area_Service\"].astype(str)\n",
    "dummy[\"Hospital County\"]=dummy[\"Hospital County\"].astype(str)\n",
    "dummy[\"Hospital Name\"]=dummy[\"Hospital Name\"].astype(str)\n",
    "dummy[\"Home or self care,\"]=dummy[\"Home or self care,\"].astype(str)\n",
    "dummy[\"ccs_diagnosis_description\"]=dummy[\"ccs_diagnosis_description\"].astype(str)\n",
    "dummy[\"ccs_procedure_description\"]=dummy[\"ccs_procedure_description\"].astype(str)\n",
    "dummy[\"apr_drg_description\"]=dummy[\"apr_drg_description\"].astype(str)\n",
    "dummy[\"apr_mdc_description\"]=dummy[\"apr_mdc_description\"].astype(str)\n",
    "dummy[\"Description_illness\"]=dummy[\"Description_illness\"].astype(str)\n",
    "dummy[\"Payment_typology_1\"]=dummy[\"Payment_typology_1\"].astype(str)\n",
    "dummy[\"payment_typology_2\"]=dummy[\"payment_typology_2\"].astype(str)\n",
    "\n"
   ]
  },
  {
   "cell_type": "code",
   "execution_count": 21,
   "metadata": {},
   "outputs": [],
   "source": [
    "string_names=( 'Area_Service', 'Hospital County',  'Hospital Name',\n",
    "        'Home or self care,',\n",
    "        'ccs_diagnosis_description',\n",
    "       'ccs_procedure_description', 'apr_drg_description',\n",
    "       'apr_mdc_description',  'Description_illness',\n",
    "       'Payment_typology_1','payment_typology_2','CostRange','Days_spend_range','Result')"
   ]
  },
  {
   "cell_type": "code",
   "execution_count": 22,
   "metadata": {},
   "outputs": [],
   "source": [
    "from sklearn.preprocessing import LabelEncoder\n",
    "LB=LabelEncoder()\n",
    "for i in string_names:\n",
    "    dummy[i]=LB.fit_transform(dummy[i])"
   ]
  },
  {
   "cell_type": "code",
   "execution_count": 23,
   "metadata": {},
   "outputs": [
    {
     "data": {
      "text/html": [
       "<div>\n",
       "<style scoped>\n",
       "    .dataframe tbody tr th:only-of-type {\n",
       "        vertical-align: middle;\n",
       "    }\n",
       "\n",
       "    .dataframe tbody tr th {\n",
       "        vertical-align: top;\n",
       "    }\n",
       "\n",
       "    .dataframe thead th {\n",
       "        text-align: right;\n",
       "    }\n",
       "</style>\n",
       "<table border=\"1\" class=\"dataframe\">\n",
       "  <thead>\n",
       "    <tr style=\"text-align: right;\">\n",
       "      <th></th>\n",
       "      <th>Area_Service</th>\n",
       "      <th>Hospital County</th>\n",
       "      <th>Certificate_num</th>\n",
       "      <th>Hospital Name</th>\n",
       "      <th>zip_code_3_digits</th>\n",
       "      <th>Days_spend_hsptl</th>\n",
       "      <th>Home or self care,</th>\n",
       "      <th>ccs_diagnosis_code</th>\n",
       "      <th>ccs_diagnosis_description</th>\n",
       "      <th>ccs_procedure_code</th>\n",
       "      <th>...</th>\n",
       "      <th>Mortality risk_Major</th>\n",
       "      <th>Mortality risk_Minor</th>\n",
       "      <th>Mortality risk_Moderate</th>\n",
       "      <th>Surg_Description_Medical</th>\n",
       "      <th>Surg_Description_Surgical</th>\n",
       "      <th>Abortion_N</th>\n",
       "      <th>Emergency dept_yes/No_N</th>\n",
       "      <th>Emergency dept_yes/No_Y</th>\n",
       "      <th>CostRange</th>\n",
       "      <th>Days_spend_range</th>\n",
       "    </tr>\n",
       "  </thead>\n",
       "  <tbody>\n",
       "    <tr>\n",
       "      <td>43</td>\n",
       "      <td>6</td>\n",
       "      <td>1</td>\n",
       "      <td>226700.0</td>\n",
       "      <td>31</td>\n",
       "      <td>147</td>\n",
       "      <td>1</td>\n",
       "      <td>17</td>\n",
       "      <td>153</td>\n",
       "      <td>102</td>\n",
       "      <td>0</td>\n",
       "      <td>...</td>\n",
       "      <td>0</td>\n",
       "      <td>0</td>\n",
       "      <td>0</td>\n",
       "      <td>1</td>\n",
       "      <td>0</td>\n",
       "      <td>1</td>\n",
       "      <td>0</td>\n",
       "      <td>1</td>\n",
       "      <td>2</td>\n",
       "      <td>0</td>\n",
       "    </tr>\n",
       "    <tr>\n",
       "      <td>44</td>\n",
       "      <td>6</td>\n",
       "      <td>1</td>\n",
       "      <td>226700.0</td>\n",
       "      <td>31</td>\n",
       "      <td>147</td>\n",
       "      <td>1</td>\n",
       "      <td>7</td>\n",
       "      <td>122</td>\n",
       "      <td>217</td>\n",
       "      <td>0</td>\n",
       "      <td>...</td>\n",
       "      <td>0</td>\n",
       "      <td>0</td>\n",
       "      <td>1</td>\n",
       "      <td>1</td>\n",
       "      <td>0</td>\n",
       "      <td>1</td>\n",
       "      <td>0</td>\n",
       "      <td>1</td>\n",
       "      <td>2</td>\n",
       "      <td>0</td>\n",
       "    </tr>\n",
       "    <tr>\n",
       "      <td>47</td>\n",
       "      <td>6</td>\n",
       "      <td>1</td>\n",
       "      <td>226700.0</td>\n",
       "      <td>31</td>\n",
       "      <td>140</td>\n",
       "      <td>1</td>\n",
       "      <td>7</td>\n",
       "      <td>127</td>\n",
       "      <td>58</td>\n",
       "      <td>0</td>\n",
       "      <td>...</td>\n",
       "      <td>0</td>\n",
       "      <td>0</td>\n",
       "      <td>1</td>\n",
       "      <td>1</td>\n",
       "      <td>0</td>\n",
       "      <td>1</td>\n",
       "      <td>0</td>\n",
       "      <td>1</td>\n",
       "      <td>2</td>\n",
       "      <td>0</td>\n",
       "    </tr>\n",
       "    <tr>\n",
       "      <td>48</td>\n",
       "      <td>6</td>\n",
       "      <td>1</td>\n",
       "      <td>226700.0</td>\n",
       "      <td>31</td>\n",
       "      <td>147</td>\n",
       "      <td>2</td>\n",
       "      <td>7</td>\n",
       "      <td>127</td>\n",
       "      <td>58</td>\n",
       "      <td>0</td>\n",
       "      <td>...</td>\n",
       "      <td>0</td>\n",
       "      <td>0</td>\n",
       "      <td>1</td>\n",
       "      <td>1</td>\n",
       "      <td>0</td>\n",
       "      <td>1</td>\n",
       "      <td>0</td>\n",
       "      <td>1</td>\n",
       "      <td>2</td>\n",
       "      <td>0</td>\n",
       "    </tr>\n",
       "    <tr>\n",
       "      <td>50</td>\n",
       "      <td>6</td>\n",
       "      <td>1</td>\n",
       "      <td>226700.0</td>\n",
       "      <td>31</td>\n",
       "      <td>147</td>\n",
       "      <td>2</td>\n",
       "      <td>7</td>\n",
       "      <td>127</td>\n",
       "      <td>58</td>\n",
       "      <td>0</td>\n",
       "      <td>...</td>\n",
       "      <td>0</td>\n",
       "      <td>1</td>\n",
       "      <td>0</td>\n",
       "      <td>1</td>\n",
       "      <td>0</td>\n",
       "      <td>1</td>\n",
       "      <td>0</td>\n",
       "      <td>1</td>\n",
       "      <td>2</td>\n",
       "      <td>0</td>\n",
       "    </tr>\n",
       "  </tbody>\n",
       "</table>\n",
       "<p>5 rows × 54 columns</p>\n",
       "</div>"
      ],
      "text/plain": [
       "    Area_Service  Hospital County  Certificate_num  Hospital Name  \\\n",
       "43             6                1         226700.0             31   \n",
       "44             6                1         226700.0             31   \n",
       "47             6                1         226700.0             31   \n",
       "48             6                1         226700.0             31   \n",
       "50             6                1         226700.0             31   \n",
       "\n",
       "    zip_code_3_digits  Days_spend_hsptl  Home or self care,  \\\n",
       "43                147                 1                  17   \n",
       "44                147                 1                   7   \n",
       "47                140                 1                   7   \n",
       "48                147                 2                   7   \n",
       "50                147                 2                   7   \n",
       "\n",
       "    ccs_diagnosis_code  ccs_diagnosis_description  ccs_procedure_code  ...  \\\n",
       "43                 153                        102                   0  ...   \n",
       "44                 122                        217                   0  ...   \n",
       "47                 127                         58                   0  ...   \n",
       "48                 127                         58                   0  ...   \n",
       "50                 127                         58                   0  ...   \n",
       "\n",
       "    Mortality risk_Major  Mortality risk_Minor  Mortality risk_Moderate  \\\n",
       "43                     0                     0                        0   \n",
       "44                     0                     0                        1   \n",
       "47                     0                     0                        1   \n",
       "48                     0                     0                        1   \n",
       "50                     0                     1                        0   \n",
       "\n",
       "    Surg_Description_Medical  Surg_Description_Surgical  Abortion_N  \\\n",
       "43                         1                          0           1   \n",
       "44                         1                          0           1   \n",
       "47                         1                          0           1   \n",
       "48                         1                          0           1   \n",
       "50                         1                          0           1   \n",
       "\n",
       "    Emergency dept_yes/No_N  Emergency dept_yes/No_Y  CostRange  \\\n",
       "43                        0                        1          2   \n",
       "44                        0                        1          2   \n",
       "47                        0                        1          2   \n",
       "48                        0                        1          2   \n",
       "50                        0                        1          2   \n",
       "\n",
       "    Days_spend_range  \n",
       "43                 0  \n",
       "44                 0  \n",
       "47                 0  \n",
       "48                 0  \n",
       "50                 0  \n",
       "\n",
       "[5 rows x 54 columns]"
      ]
     },
     "execution_count": 23,
     "metadata": {},
     "output_type": "execute_result"
    }
   ],
   "source": [
    "dummy.head()"
   ]
  },
  {
   "cell_type": "code",
   "execution_count": 54,
   "metadata": {},
   "outputs": [
    {
     "data": {
      "text/plain": [
       "Area_Service                             0.000366\n",
       "Hospital County                          0.000123\n",
       "Certificate_num                         -0.000270\n",
       "Hospital Name                            0.001113\n",
       "zip_code_3_digits                        0.000224\n",
       "Days_spend_hsptl                        -0.002186\n",
       "Home or self care,                      -0.000319\n",
       "ccs_diagnosis_code                      -0.000006\n",
       "ccs_diagnosis_description                0.001178\n",
       "ccs_procedure_code                       0.000537\n",
       "ccs_procedure_description                0.000074\n",
       "apr_drg_description                      0.000225\n",
       "apr_mdc_description                      0.000094\n",
       "Code_illness                             0.000480\n",
       "Description_illness                     -0.001538\n",
       "Payment_typology_1                       0.001091\n",
       "payment_typology_2                      -0.000181\n",
       "Weight_baby                             -0.001786\n",
       "Tot_charg                               -0.001260\n",
       "Tot_cost                                -0.001856\n",
       "ratio_of_total_costs_to_total_charges    0.000436\n",
       "Result                                   1.000000\n",
       "Age_0 to 17                             -0.002106\n",
       "Age_18 to 29                            -0.000704\n",
       "Age_30 to 49                             0.002221\n",
       "Age_50 to 69                             0.001895\n",
       "Age_70 or Older                         -0.001603\n",
       "Gender_F                                 0.000012\n",
       "Gender_M                                -0.000016\n",
       "Gender_U                                 0.000982\n",
       "Cultural_group_Black/African American   -0.000267\n",
       "Cultural_group_Other Race                0.002319\n",
       "Cultural_group_Unknown                  -0.001010\n",
       "Cultural_group_White                    -0.001406\n",
       "ethnicity_Not Span/Hispanic             -0.001236\n",
       "ethnicity_Spanish/Hispanic               0.002338\n",
       "ethnicity_Unknown                       -0.001555\n",
       "Admission_type_Elective                  0.000516\n",
       "Admission_type_Emergency                 0.000894\n",
       "Admission_type_Newborn                  -0.001934\n",
       "Admission_type_Not Available             0.000629\n",
       "Admission_type_Trauma                    0.000362\n",
       "Admission_type_Urgent                   -0.000684\n",
       "Mortality risk_Extreme                  -0.000201\n",
       "Mortality risk_Major                     0.000371\n",
       "Mortality risk_Minor                    -0.001042\n",
       "Mortality risk_Moderate                  0.000997\n",
       "Surg_Description_Medical                 0.001364\n",
       "Surg_Description_Surgical               -0.001364\n",
       "Abortion_N                                    NaN\n",
       "Emergency dept_yes/No_N                 -0.001388\n",
       "Emergency dept_yes/No_Y                  0.001388\n",
       "CostRange                                0.000799\n",
       "Days_spend_range                        -0.001419\n",
       "Name: Result, dtype: float64"
      ]
     },
     "execution_count": 54,
     "metadata": {},
     "output_type": "execute_result"
    }
   ],
   "source": [
    "dummy.corr()['Result']"
   ]
  },
  {
   "cell_type": "code",
   "execution_count": 55,
   "metadata": {},
   "outputs": [
    {
     "data": {
      "image/png": "[encoded data removed]",
      "text/plain": [
       "<Figure size 2160x1440 with 2 Axes>"
      ]
     },
     "metadata": {
      "needs_background": "light"
     },
     "output_type": "display_data"
    }
   ],
   "source": [
    "#correlation map\n",
    "ax=plt.subplots(figsize=(30,20))\n",
    "corr=dummy.corr()\n",
    "\n",
    "sns.heatmap(corr)\n",
    "\n",
    "plt.show()"
   ]
  },
  {
   "cell_type": "code",
   "execution_count": 24,
   "metadata": {},
   "outputs": [],
   "source": [
    "x=dummy.drop(\"Result\",axis=1)"
   ]
  },
  {
   "cell_type": "code",
   "execution_count": 25,
   "metadata": {},
   "outputs": [],
   "source": [
    "Y=dummy[\"Result\"]"
   ]
  },
  {
   "cell_type": "code",
   "execution_count": 26,
   "metadata": {},
   "outputs": [
    {
     "data": {
      "text/plain": [
       "array([[ 1.60939345, -1.43170302, -1.48506808, ...,  0.81112847,\n",
       "         1.2281607 , -0.33211182],\n",
       "       [ 1.60939345, -1.43170302, -1.48506808, ...,  0.81112847,\n",
       "         1.2281607 , -0.33211182],\n",
       "       [ 1.60939345, -1.43170302, -1.48506808, ...,  0.81112847,\n",
       "         1.2281607 , -0.33211182],\n",
       "       ...,\n",
       "       [ 0.60147907, -1.36849262,  1.68886628, ...,  0.81112847,\n",
       "         2.19531931,  1.35224234],\n",
       "       [ 0.60147907, -1.36849262,  1.68886628, ...,  0.81112847,\n",
       "        -0.70615651, -0.33211182],\n",
       "       [ 0.60147907, -1.36849262,  1.68886628, ...,  0.81112847,\n",
       "        -0.70615651, -0.33211182]])"
      ]
     },
     "execution_count": 26,
     "metadata": {},
     "output_type": "execute_result"
    }
   ],
   "source": [
    "from sklearn import preprocessing\n",
    "X=preprocessing.scale(x)\n",
    "X"
   ]
  },
  {
   "cell_type": "code",
   "execution_count": 27,
   "metadata": {},
   "outputs": [],
   "source": [
    "from sklearn.decomposition import PCA"
   ]
  },
  {
   "cell_type": "code",
   "execution_count": 28,
   "metadata": {},
   "outputs": [
    {
     "data": {
      "text/plain": [
       "PCA(copy=True, iterated_power='auto', n_components=2, random_state=None,\n",
       "    svd_solver='auto', tol=0.0, whiten=False)"
      ]
     },
     "execution_count": 28,
     "metadata": {},
     "output_type": "execute_result"
    }
   ],
   "source": [
    "pca=PCA(n_components=2)\n",
    "pca"
   ]
  },
  {
   "cell_type": "code",
   "execution_count": 29,
   "metadata": {},
   "outputs": [
    {
     "data": {
      "text/plain": [
       "array([[ 2.16061367,  1.17273462],\n",
       "       [ 0.28684031,  0.16812612],\n",
       "       [ 0.74908933,  0.08489557],\n",
       "       ...,\n",
       "       [ 2.42405783, -1.00870002],\n",
       "       [-0.51004283, -0.73554133],\n",
       "       [-0.33987088, -3.67304014]])"
      ]
     },
     "execution_count": 29,
     "metadata": {},
     "output_type": "execute_result"
    }
   ],
   "source": [
    "PCA=pca.fit_transform(X)\n",
    "PCA"
   ]
  },
  {
   "cell_type": "code",
   "execution_count": 30,
   "metadata": {},
   "outputs": [
    {
     "data": {
      "text/plain": [
       "(691083, 2)"
      ]
     },
     "execution_count": 30,
     "metadata": {},
     "output_type": "execute_result"
    }
   ],
   "source": [
    "PCA.shape"
   ]
  },
  {
   "cell_type": "code",
   "execution_count": 31,
   "metadata": {},
   "outputs": [
    {
     "data": {
      "text/html": [
       "<div>\n",
       "<style scoped>\n",
       "    .dataframe tbody tr th:only-of-type {\n",
       "        vertical-align: middle;\n",
       "    }\n",
       "\n",
       "    .dataframe tbody tr th {\n",
       "        vertical-align: top;\n",
       "    }\n",
       "\n",
       "    .dataframe thead th {\n",
       "        text-align: right;\n",
       "    }\n",
       "</style>\n",
       "<table border=\"1\" class=\"dataframe\">\n",
       "  <thead>\n",
       "    <tr style=\"text-align: right;\">\n",
       "      <th></th>\n",
       "      <th>0</th>\n",
       "      <th>1</th>\n",
       "    </tr>\n",
       "  </thead>\n",
       "  <tbody>\n",
       "    <tr>\n",
       "      <td>0</td>\n",
       "      <td>2.160614</td>\n",
       "      <td>1.172735</td>\n",
       "    </tr>\n",
       "    <tr>\n",
       "      <td>1</td>\n",
       "      <td>0.286840</td>\n",
       "      <td>0.168126</td>\n",
       "    </tr>\n",
       "    <tr>\n",
       "      <td>2</td>\n",
       "      <td>0.749089</td>\n",
       "      <td>0.084896</td>\n",
       "    </tr>\n",
       "    <tr>\n",
       "      <td>3</td>\n",
       "      <td>0.606465</td>\n",
       "      <td>-0.248374</td>\n",
       "    </tr>\n",
       "    <tr>\n",
       "      <td>4</td>\n",
       "      <td>-0.491560</td>\n",
       "      <td>0.105859</td>\n",
       "    </tr>\n",
       "    <tr>\n",
       "      <td>...</td>\n",
       "      <td>...</td>\n",
       "      <td>...</td>\n",
       "    </tr>\n",
       "    <tr>\n",
       "      <td>691078</td>\n",
       "      <td>1.538116</td>\n",
       "      <td>-2.965897</td>\n",
       "    </tr>\n",
       "    <tr>\n",
       "      <td>691079</td>\n",
       "      <td>-2.390502</td>\n",
       "      <td>-1.735234</td>\n",
       "    </tr>\n",
       "    <tr>\n",
       "      <td>691080</td>\n",
       "      <td>2.424058</td>\n",
       "      <td>-1.008700</td>\n",
       "    </tr>\n",
       "    <tr>\n",
       "      <td>691081</td>\n",
       "      <td>-0.510043</td>\n",
       "      <td>-0.735541</td>\n",
       "    </tr>\n",
       "    <tr>\n",
       "      <td>691082</td>\n",
       "      <td>-0.339871</td>\n",
       "      <td>-3.673040</td>\n",
       "    </tr>\n",
       "  </tbody>\n",
       "</table>\n",
       "<p>691083 rows × 2 columns</p>\n",
       "</div>"
      ],
      "text/plain": [
       "               0         1\n",
       "0       2.160614  1.172735\n",
       "1       0.286840  0.168126\n",
       "2       0.749089  0.084896\n",
       "3       0.606465 -0.248374\n",
       "4      -0.491560  0.105859\n",
       "...          ...       ...\n",
       "691078  1.538116 -2.965897\n",
       "691079 -2.390502 -1.735234\n",
       "691080  2.424058 -1.008700\n",
       "691081 -0.510043 -0.735541\n",
       "691082 -0.339871 -3.673040\n",
       "\n",
       "[691083 rows x 2 columns]"
      ]
     },
     "execution_count": 31,
     "metadata": {},
     "output_type": "execute_result"
    }
   ],
   "source": [
    "PCA=pd.DataFrame(PCA)\n",
    "PCA"
   ]
  },
  {
   "cell_type": "code",
   "execution_count": 32,
   "metadata": {},
   "outputs": [],
   "source": [
    "from sklearn.model_selection import train_test_split\n",
    "train_x,test_x,train_y,test_y=train_test_split(PCA,Y,random_state=1,test_size=0.3)"
   ]
  },
  {
   "cell_type": "code",
   "execution_count": 33,
   "metadata": {},
   "outputs": [
    {
     "name": "stderr",
     "output_type": "stream",
     "text": [
      "/opt/anaconda3/lib/python3.7/site-packages/sklearn/linear_model/logistic.py:432: FutureWarning: Default solver will be changed to 'lbfgs' in 0.22. Specify a solver to silence this warning.\n",
      "  FutureWarning)\n"
     ]
    },
    {
     "data": {
      "text/plain": [
       "LogisticRegression(C=1.0, class_weight=None, dual=False, fit_intercept=True,\n",
       "                   intercept_scaling=1, l1_ratio=None, max_iter=100,\n",
       "                   multi_class='warn', n_jobs=None, penalty='l2',\n",
       "                   random_state=None, solver='warn', tol=0.0001, verbose=0,\n",
       "                   warm_start=False)"
      ]
     },
     "execution_count": 33,
     "metadata": {},
     "output_type": "execute_result"
    }
   ],
   "source": [
    "from sklearn.linear_model import LogisticRegression\n",
    "LR=LogisticRegression()\n",
    "LR.fit(train_x,train_y)"
   ]
  },
  {
   "cell_type": "code",
   "execution_count": 34,
   "metadata": {},
   "outputs": [],
   "source": [
    "y_pred=LR.predict(test_x)"
   ]
  },
  {
   "cell_type": "code",
   "execution_count": 35,
   "metadata": {},
   "outputs": [
    {
     "data": {
      "text/plain": [
       "array([[     0,      0],\n",
       "       [ 51732, 155593]])"
      ]
     },
     "execution_count": 35,
     "metadata": {},
     "output_type": "execute_result"
    }
   ],
   "source": [
    "from sklearn.metrics import confusion_matrix\n",
    "confusion_matrix(y_pred,test_y)"
   ]
  },
  {
   "cell_type": "code",
   "execution_count": 36,
   "metadata": {},
   "outputs": [
    {
     "data": {
      "text/plain": [
       "0.7504787169902327"
      ]
     },
     "execution_count": 36,
     "metadata": {},
     "output_type": "execute_result"
    }
   ],
   "source": [
    "from sklearn.metrics import accuracy_score\n",
    "LR_score=accuracy_score(y_pred,test_y)\n",
    "LR_score"
   ]
  },
  {
   "cell_type": "code",
   "execution_count": 37,
   "metadata": {},
   "outputs": [],
   "source": [
    "from sklearn.naive_bayes import GaussianNB,BernoulliNB,MultinomialNB"
   ]
  },
  {
   "cell_type": "code",
   "execution_count": 38,
   "metadata": {},
   "outputs": [
    {
     "data": {
      "text/plain": [
       "GaussianNB(priors=None, var_smoothing=1e-09)"
      ]
     },
     "execution_count": 38,
     "metadata": {},
     "output_type": "execute_result"
    }
   ],
   "source": [
    "GNB=GaussianNB()\n",
    "GNB.fit(train_x,train_y)"
   ]
  },
  {
   "cell_type": "code",
   "execution_count": 39,
   "metadata": {},
   "outputs": [],
   "source": [
    "GNB_y_pred=GNB.predict(test_x)"
   ]
  },
  {
   "cell_type": "code",
   "execution_count": 40,
   "metadata": {},
   "outputs": [
    {
     "data": {
      "text/plain": [
       "array([[     5,      9],\n",
       "       [ 51727, 155584]])"
      ]
     },
     "execution_count": 40,
     "metadata": {},
     "output_type": "execute_result"
    }
   ],
   "source": [
    "confusion_matrix(GNB_y_pred,test_y)"
   ]
  },
  {
   "cell_type": "code",
   "execution_count": 41,
   "metadata": {},
   "outputs": [
    {
     "data": {
      "text/plain": [
       "0.7504594236102737"
      ]
     },
     "execution_count": 41,
     "metadata": {},
     "output_type": "execute_result"
    }
   ],
   "source": [
    "GNB_score=accuracy_score(GNB_y_pred,test_y)\n",
    "GNB_score"
   ]
  },
  {
   "cell_type": "code",
   "execution_count": 42,
   "metadata": {},
   "outputs": [
    {
     "name": "stdout",
     "output_type": "stream",
     "text": [
      "0.7504787169902327\n"
     ]
    }
   ],
   "source": [
    "BNB=BernoulliNB()\n",
    "BNB.fit(train_x,train_y)\n",
    "BNB_y_pred=BNB.predict(test_x)\n",
    "confusion_matrix(BNB_y_pred,test_y)\n",
    "BNB_score=accuracy_score(BNB_y_pred,test_y)\n",
    "print(BNB_score)"
   ]
  },
  {
   "cell_type": "code",
   "execution_count": 63,
   "metadata": {},
   "outputs": [
    {
     "data": {
      "text/plain": [
       "array([[ 13478,  40354],\n",
       "       [ 38254, 115239]])"
      ]
     },
     "execution_count": 63,
     "metadata": {},
     "output_type": "execute_result"
    }
   ],
   "source": [
    "from sklearn.tree import DecisionTreeClassifier\n",
    "DTC=DecisionTreeClassifier()\n",
    "DTC.fit(train_x,train_y)\n",
    "DTC_y_pred=DTC.predict(test_x)\n",
    "confusion_matrix(DTC_y_pred,test_y)"
   ]
  },
  {
   "cell_type": "code",
   "execution_count": 64,
   "metadata": {},
   "outputs": [
    {
     "data": {
      "text/plain": [
       "0.6208464970457012"
      ]
     },
     "execution_count": 64,
     "metadata": {},
     "output_type": "execute_result"
    }
   ],
   "source": [
    "DTC_score=accuracy_score(DTC_y_pred,test_y)\n",
    "DTC_score"
   ]
  },
  {
   "cell_type": "code",
   "execution_count": 65,
   "metadata": {},
   "outputs": [
    {
     "data": {
      "text/plain": [
       "array([[  1796,   5337],\n",
       "       [ 49936, 150256]])"
      ]
     },
     "execution_count": 65,
     "metadata": {},
     "output_type": "execute_result"
    }
   ],
   "source": [
    "from sklearn.ensemble import RandomForestClassifier\n",
    "RF=RandomForestClassifier(n_jobs=3,n_estimators=100,criterion=\"entropy\")\n",
    "RF.fit(train_x,train_y)\n",
    "RF_y_pred=RF.predict(test_x)\n",
    "confusion_matrix(RF_y_pred,test_y)"
   ]
  },
  {
   "cell_type": "code",
   "execution_count": 66,
   "metadata": {},
   "outputs": [
    {
     "data": {
      "text/plain": [
       "0.7333992523815266"
      ]
     },
     "execution_count": 66,
     "metadata": {},
     "output_type": "execute_result"
    }
   ],
   "source": [
    "RF_score=accuracy_score(RF_y_pred,test_y)\n",
    "RF_score"
   ]
  },
  {
   "cell_type": "code",
   "execution_count": null,
   "metadata": {},
   "outputs": [],
   "source": [
    "from sklearn.ensemble import BaggingClassifier\n",
    "BC=BaggingClassifier(base_estimator=RF,n_estimators=100)\n",
    "BC.fit(train_x,train_y)\n",
    "BC_y_pred=BC.predict(test_x)\n",
    "confusion_matrix(BC_y_pred,test_y)"
   ]
  },
  {
   "cell_type": "code",
   "execution_count": null,
   "metadata": {},
   "outputs": [],
   "source": [
    "BC_score=accuracy_score(BC_y_pred,test_y)\n",
    "BC_score"
   ]
  },
  {
   "cell_type": "code",
   "execution_count": null,
   "metadata": {},
   "outputs": [],
   "source": [
    "from sklearn.ensemble import AdaBoostClassifier\n",
    "ABC=AdaBoostClassifier(base_estimator=RF,n_estimators=100)\n",
    "ABC.fit(train_x,train_y)\n"
   ]
  },
  {
   "cell_type": "code",
   "execution_count": null,
   "metadata": {},
   "outputs": [],
   "source": [
    "ABC_y_pred=ABC.predict(test_x)\n",
    "confusion_matrics(ABC_y_pred,test_y)"
   ]
  },
  {
   "cell_type": "code",
   "execution_count": null,
   "metadata": {},
   "outputs": [],
   "source": [
    "ABC_score=accuracy_score(ABC_y_pred,test_y)\n",
    "ABC_score"
   ]
  },
  {
   "cell_type": "code",
   "execution_count": null,
   "metadata": {},
   "outputs": [],
   "source": [
    "from sklearn.svm import SVC\n",
    "SVC=SVC(kernel='linear')\n",
    "SVC.fit(train_x,train_y)"
   ]
  },
  {
   "cell_type": "code",
   "execution_count": null,
   "metadata": {},
   "outputs": [],
   "source": []
  }
 ],
 "metadata": {
  "kernelspec": {
   "display_name": "Python 3",
   "language": "python",
   "name": "python3"
  },
  "language_info": {
   "codemirror_mode": {
    "name": "ipython",
    "version": 3
   },
   "file_extension": ".py",
   "mimetype": "text/x-python",
   "name": "python",
   "nbconvert_exporter": "python",
   "pygments_lexer": "ipython3",
   "version": "3.7.4"
  }
 },
 "nbformat": 4,
 "nbformat_minor": 2
}
